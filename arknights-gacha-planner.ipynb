{
 "cells": [
  {
   "cell_type": "markdown",
   "metadata": {},
   "source": [
    "# Calculate how many pulls you need for something\n",
    "\n",
    "Basically a fancy inventory management for headhunting\n",
    "\n",
    "### TODO\n",
    "\n",
    "- Function to calc passive accumulation over time. (start and end date as `DateTime()` ?)\n",
    "- In `to_pulls()`, `to_orundum()` and `collect()` have optional kwarg `use_op=True`\n",
    "- Purple cert shop inventories\n",
    "- Inventory spending priority (in `collect()`, don't change `__sub__()`)\n",
    "- No maintenance or gifts"
   ]
  },
  {
   "cell_type": "code",
   "execution_count": 1,
   "metadata": {},
   "outputs": [],
   "source": [
    "import numpy as np\n",
    "import pulls_inventory as pi\n",
    "from pulls_inventory import PullsInventory\n",
    "\n",
    "%load_ext autoreload\n",
    "%autoreload 2"
   ]
  },
  {
   "cell_type": "markdown",
   "metadata": {},
   "source": [
    "### Event and login rewards"
   ]
  },
  {
   "cell_type": "code",
   "execution_count": 2,
   "metadata": {},
   "outputs": [],
   "source": [
    "## Events\n",
    "vigilo = PullsInventory(op = 14)\n",
    "## cc6\n",
    "ch9_all = PullsInventory(op = 46)\n",
    "mn_rerun = PullsInventory(hh_singles = 3) ## plus intellegance certs\n",
    "pinus = PullsInventory(hh_singles = 3)\n",
    "nearlter_event = PullsInventory(op = 42, hh_singles = 3)\n",
    "## cc7\n",
    "mb_rerun = PullsInventory(hh_singles = 3) ## plus int certs\n",
    "break_ice = PullsInventory(op = 30, hh_singles = 3)\n",
    "wr_rerun = PullsInventory(hh_singles = 3) ## plus int certs\n",
    "ling_event = PullsInventory(op = 28, hh_singles = 3)\n",
    "gg_event = PullsInventory(op=18)\n",
    "## cc8\n",
    "fiametta_event = PullsInventory(op=27, hh_singles=3)\n",
    "wd_rerun = PullsInventory(orundum=2000, hh_singles=3) ## orundum from int certs\n",
    "ch10_all = PullsInventory(op=38)\n",
    "spalter_event = PullsInventory(op=36, hh_singles=3)\n",
    "## cc9\n",
    "sv_rerun = PullsInventory(orundum=2000, hh_singles=3) ## orundum from int certs\n",
    "lingering_echoes = PullsInventory(op=29, hh_singles=3)\n",
    "\n",
    "## Login events\n",
    "login_ch9 = PullsInventory(orundum = 200+200, op = 1)\n",
    "login_nearlter = PullsInventory(op = 2)\n",
    "login_christmas = PullsInventory(orundum = 200 + 200, op = 1, hh_singles = 1)\n",
    "login_wr_rerun = PullsInventory(orundum = 300, op = 1, hh_singles = 1)\n",
    "login_cny = PullsInventory(orundum = 300+300, op = 1+2, hh_singles = 1+1)\n",
    "login_sn = PullsInventory(orundum=300, op=2)\n",
    "\n",
    "## Misc\n",
    "story = PullsInventory(op = 3 + 6 + 7) ## ch7 + ch8"
   ]
  },
  {
   "cell_type": "code",
   "execution_count": 3,
   "metadata": {},
   "outputs": [
    {
     "name": "stdout",
     "output_type": "stream",
     "text": [
      "Pack pulls-per-cost efficiency (higher is better) (doesn't factor in other items)\n",
      "\t01: Monthly card: 2.365 p/$ (11 pulls)\n",
      "\t02: RI New Year pack: 0.9603 p/$ (28 pulls)\n",
      "\t03: 1 OP pack (first): 0.9091 p/$ (0 pulls)\n",
      "\t04: RI party pack: 0.907 p/$ (27 pulls)\n",
      "\t05: Monthly hh pack: 0.8696 p/$ (22 pulls)\n",
      "\t06: 20 OP pack (first): 0.8005 p/$ (12 pulls)\n",
      "\t07: 40 OP pack (first): 0.8003 p/$ (24 pulls)\n",
      "\t08: 66 OP pack (first): 0.7922 p/$ (39 pulls)\n",
      "\t09: 130 OP pack (first): 0.7801 p/$ (78 pulls)\n",
      "\t10: Anniversary update pack: 0.7508 p/$ (7 pulls)\n",
      "\t11: Anniversary carnival pack: 0.7401 p/$ (37 pulls)\n",
      "\t12: 6 OP pack (first): 0.7214 p/$ (3 pulls)\n",
      "\t13: Duck lord's purse: 0.5579 p/$ (3 pulls)\n",
      "\t14: Instant E2 pack: 0.5553 p/$ (11 pulls)\n",
      "\t15: 130 OP pack: 0.5551 p/$ (55 pulls)\n",
      "\t16: 66 OP pack: 0.5401 p/$ (27 pulls)\n",
      "\t17: 40 OP pack: 0.5002 p/$ (15 pulls)\n",
      "\t18: 20 OP pack: 0.4803 p/$ (7 pulls)\n",
      "\t19: 6 OP pack: 0.4208 p/$ (2 pulls)\n",
      "\t20: Monthly card (op only): 0.3607 p/$ (1 pulls)\n",
      "\t21: 6* selector pack: 0.3334 p/$ (10 pulls)\n",
      "\t22: 1 OP pack: 0.303 p/$ (0 pulls)\n"
     ]
    }
   ],
   "source": [
    "pi.calc_pack_efficiencies()"
   ]
  },
  {
   "cell_type": "markdown",
   "metadata": {},
   "source": [
    "### Future breakdown of event rewawrds\n",
    "\n",
    "One line is one event, amkes it easy to \"pull\" whenever you want to.\n",
    "\n",
    "This is what you want to change based on your needs."
   ]
  },
  {
   "cell_type": "code",
   "execution_count": 4,
   "metadata": {},
   "outputs": [
    {
     "name": "stdout",
     "output_type": "stream",
     "text": [
      "After 150 pulls for Ling, have following remaining:\n",
      "\tOrundum: 38193\n",
      "\tOP: 207\n",
      "\tCost: $65.96\n",
      "\n",
      "After 80 pulls for GG-chan, have following remaining:\n",
      "\tOrundum: 33693.0\n",
      "\tOP: 262\n",
      "\tCost: $95.95\n",
      "\n",
      "After 80 pulls for Fiametta, have following remaining:\n",
      "\tOrundum: 6293.0\n",
      "\tOP: 280\n",
      "\tCost: $95.95\n",
      "\n",
      "After 100 pulls for Spalter, have following remaining:\n",
      "\tOrundum: 30293.0\n",
      "\tOP: 345\n",
      "\tCost: $95.95\n",
      "\n"
     ]
    }
   ],
   "source": [
    "current = PullsInventory(orundum=37993, hh_singles=2, hh_tens=5, op=70)\n",
    "current += pi.pack_monthly + pi.card_monthly_op_only*2\n",
    "current += break_ice + pi.weekly_with_pass*2 + login_christmas\n",
    "current += pi.weekly_with_pass\n",
    "current += wr_rerun + pi.weekly_with_pass*1 + login_wr_rerun + pi.green_shop\n",
    "current += pi.weekly_with_pass\n",
    "\n",
    "n_pulls = 150\n",
    "ling_inv = current + pi.free_banner + pi.new_year_pack\n",
    "ling_remain = ling_inv.try_spend(PullsInventory(hh_singles=n_pulls), use_op=False)\n",
    "print(\"After {} pulls for Ling, have following remaining:\\n{}\".format(n_pulls, ling_remain))\n",
    "current = ling_remain\n",
    "\n",
    "current += ling_event + pi.weekly_with_pass*2 + login_cny + pi.mining_permit + pi.party_pack\n",
    "current += pi.weekly_with_pass\n",
    "\n",
    "n_pulls = 80\n",
    "gg_remain = current.try_spend(PullsInventory(hh_singles=n_pulls), use_op=False)\n",
    "print(\"After {} pulls for GG-chan, have following remaining:\\n{}\".format(n_pulls, gg_remain))\n",
    "current = gg_remain\n",
    "\n",
    "current += gg_event + pi.weekly_with_pass*1 + pi.green_shop\n",
    "current += pi.weekly_with_pass\n",
    "current += pi.weekly_with_pass*2 ## cc\n",
    "\n",
    "n_pulls = 80\n",
    "fiametta_remain = current.try_spend(PullsInventory(hh_singles=n_pulls), use_op=True)\n",
    "print(\"After {} pulls for Fiametta, have following remaining:\\n{}\".format(n_pulls, fiametta_remain))\n",
    "current = fiametta_remain\n",
    "\n",
    "current += fiametta_event + pi.weekly_with_pass*2 + pi.green_shop\n",
    "current += pi.weekly_with_pass\n",
    "current += wd_rerun + pi.weekly_with_pass\n",
    "current += pi.weekly_with_pass\n",
    "current += ch10_all + pi.weekly_with_pass*2 + pi.green_shop\n",
    "current += pi.weekly_with_pass\n",
    "\n",
    "n_pulls = 100\n",
    "spalter_inv = current + pi.free_banner + pi.gold_shop\n",
    "spalter_remain = spalter_inv.try_spend(PullsInventory(hh_singles=n_pulls), use_op=False)\n",
    "print(\"After {} pulls for Spalter, have following remaining:\\n{}\".format(n_pulls, spalter_remain))\n",
    "current = spalter_remain\n",
    "\n",
    "current += spalter_event + pi.weekly_with_pass*2 + login_sn + pi.mining_permit\n",
    "current += pi.weekly_with_pass\n",
    "current += pi.weekly_with_pass*2 ## cc\n",
    "current += sv_rerun + pi.weekly_with_pass + pi.green_shop\n",
    "current += pi.weekly_with_pass\n",
    "current += lingering_echoes + pi.weekly_with_pass*2\n",
    "current += pi.weekly_with_pass"
   ]
  },
  {
   "cell_type": "code",
   "execution_count": null,
   "metadata": {},
   "outputs": [],
   "source": []
  }
 ],
 "metadata": {
  "kernelspec": {
   "display_name": "Python 3 (ipykernel)",
   "language": "python",
   "name": "python3"
  },
  "language_info": {
   "codemirror_mode": {
    "name": "ipython",
    "version": 3
   },
   "file_extension": ".py",
   "mimetype": "text/x-python",
   "name": "python",
   "nbconvert_exporter": "python",
   "pygments_lexer": "ipython3",
   "version": "3.10.5"
  }
 },
 "nbformat": 4,
 "nbformat_minor": 4
}
