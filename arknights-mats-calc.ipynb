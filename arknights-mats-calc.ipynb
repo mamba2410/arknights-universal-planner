{
 "cells": [
  {
   "cell_type": "markdown",
   "id": "c3e1b6a0",
   "metadata": {},
   "source": [
    "## Using ak_requests"
   ]
  },
  {
   "cell_type": "code",
   "execution_count": 3,
   "id": "e1384329",
   "metadata": {},
   "outputs": [
    {
     "name": "stdout",
     "output_type": "stream",
     "text": [
      "The autoreload extension is already loaded. To reload it, use:\n",
      "  %reload_ext autoreload\n"
     ]
    }
   ],
   "source": [
    "import common as ak\n",
    "import materials, craft, stage\n",
    "import numpy as np\n",
    "from scipy.optimize import linprog\n",
    "\n",
    "%load_ext autoreload\n",
    "%autoreload 2"
   ]
  },
  {
   "cell_type": "code",
   "execution_count": 2,
   "id": "36dc9929",
   "metadata": {},
   "outputs": [
    {
     "name": "stdout",
     "output_type": "stream",
     "text": [
      "Reading from local file\n",
      "Reading from remote\n",
      "Reading from local file\n"
     ]
    }
   ],
   "source": [
    "item_dict = ak.get_item_dict(lang=\"en_US\", local=True)\n",
    "stage_dict = ak.get_stage_dict(lang=\"zh_CN\", local=True)\n",
    "craft_dict = ak.get_craft_dict(lang=\"zh_CN\", local=True)\n",
    "psdf = ak.get_pengstats_df(server=\"US\")"
   ]
  },
  {
   "cell_type": "code",
   "execution_count": 4,
   "id": "f01df9b9",
   "metadata": {},
   "outputs": [],
   "source": [
    "stage_san_cost, stage_names, stage_names_rev, stage_lmd_dict = stage.get_stage_info(psdf, stage_dict)\n",
    "item_names, item_names_rev = ak.get_item_info(item_dict)\n",
    "event_names, event_names_rev = stage.get_event_info(stage_names)"
   ]
  },
  {
   "cell_type": "code",
   "execution_count": 5,
   "id": "e71dee9f",
   "metadata": {},
   "outputs": [],
   "source": [
    "material_ids = ak.get_material_ids(item_names_rev, materials.MATERIAL_NAMES)\n",
    "n_mats_all = len(material_ids)"
   ]
  },
  {
   "cell_type": "code",
   "execution_count": 7,
   "id": "6839e701",
   "metadata": {},
   "outputs": [],
   "source": [
    "#main_stage_ids = ak.get_main_stage_ids(psdf)\n",
    "main_stage_ids = stage.get_main_and_perm_stage_ids(psdf)\n",
    "stage_ids_all = np.concatenate((main_stage_ids,[\n",
    "    \"wk_melee_5\",\n",
    "    \"wk_kc_5\",\n",
    "    \"wk_fly_5\"\n",
    "]))\n",
    "\n",
    "stage_san_all = stage.get_san_cost(stage_ids_all, stage_san_cost)\n",
    "n_stages_all = len(stage_ids_all)"
   ]
  },
  {
   "cell_type": "code",
   "execution_count": 8,
   "id": "edf22c3a",
   "metadata": {},
   "outputs": [],
   "source": [
    "craft_matrix, subprod_matrix = craft.get_craft_matrix(craft_dict, material_ids, item_names_rev)"
   ]
  },
  {
   "cell_type": "code",
   "execution_count": 9,
   "id": "4b4c5578",
   "metadata": {},
   "outputs": [],
   "source": [
    "drop_matrix_all, coeff_matrix_all = stage.get_drop_matrix(psdf, stage_ids_all, material_ids, stage_lmd_dict)"
   ]
  },
  {
   "cell_type": "code",
   "execution_count": 11,
   "id": "a226fa13",
   "metadata": {},
   "outputs": [],
   "source": [
    "drop_matrix, stage_san, stage_ids = stage.filter_drop_matrix(drop_matrix_all, stage_san_all, stage_ids_all)"
   ]
  },
  {
   "cell_type": "code",
   "execution_count": 12,
   "id": "8b3a041a",
   "metadata": {},
   "outputs": [],
   "source": [
    "cutoff_threshold = 0.01\n",
    "drop_matrix = stage.drop_matrix_cutoff(drop_matrix, cutoff_threshold)"
   ]
  },
  {
   "cell_type": "code",
   "execution_count": 13,
   "id": "8bf7807c",
   "metadata": {},
   "outputs": [],
   "source": [
    "byprod_rate = 0.18\n",
    "craft_constraint_matrix = ak.get_craft_constraint_matrix(craft_matrix, subprod_matrix, byprod_rate)"
   ]
  },
  {
   "cell_type": "code",
   "execution_count": 14,
   "id": "444ea929",
   "metadata": {},
   "outputs": [
    {
     "name": "stdout",
     "output_type": "stream",
     "text": [
      "True\n",
      "LMD: 0.0040\n",
      "Skill Summary - 1: 1.5618\n",
      "Skill Summary - 2: 3.9706\n",
      "Skill Summary - 3: 10.0946\n",
      "Orirock: 1.3317\n",
      "Orirock Cube: 4.0524\n",
      "Orirock Cluster: 20.0232\n",
      "Orirock Concentration: 76.6195\n",
      "Damaged Device: 2.3536\n",
      "Device: 7.1182\n",
      "Integrated Device: 28.2339\n",
      "Optimized Device: 93.8480\n",
      "Ester: 1.8342\n",
      "Polyester: 5.5599\n",
      "Polyester Pack: 22.0004\n",
      "Polyester Lump: 92.1510\n",
      "Sugar Substitute: 1.7557\n",
      "Sugar: 5.3243\n",
      "Sugar Pack: 21.0582\n",
      "Sugar Lump: 96.5974\n",
      "Oriron Shard: 2.4794\n",
      "Oriron: 7.4954\n",
      "Oriron Cluster: 29.7426\n",
      "Oriron Block: 106.2463\n",
      "Diketon: 2.3610\n",
      "Polyketon: 7.1404\n",
      "Aketon: 28.3226\n",
      "Keton Colloid: 102.4417\n",
      "Loxic Kohl: 23.3009\n",
      "White Horse Kohl: 76.6213\n",
      "Manganese Ore: 28.2117\n",
      "Manganese Trihydrate: 98.2515\n",
      "Grindstone: 29.0410\n",
      "Grindstone Pentahydrate: 83.5442\n",
      "RMA70-12: 35.7355\n",
      "RMA70-24: 100.6311\n",
      "Polymerization Preparation: 270.8765\n",
      "Bipolar Nanoflake: 232.6596\n",
      "D32 Steel: 267.9959\n",
      "Coagulating Gel: 32.2934\n",
      "Polymerized Gel: 85.9626\n",
      "Incandescent Alloy: 27.3999\n",
      "Incandescent Alloy Block: 81.2015\n",
      "Crystalline Component: 24.2934\n",
      "Crystalline Circuit: 104.8068\n",
      "Crystalline Electronic Unit: 343.5026\n",
      "Semi-Synthetic Solvent: 32.0638\n",
      "Refined Solvent: 77.9617\n",
      "Compound Cutting Fluid: 17.0778\n",
      "Cutting Fluid Solution: 73.6334\n"
     ]
    }
   ],
   "source": [
    "coeff = np.sum(drop_matrix, axis=0)\n",
    "res = linprog(-coeff,\n",
    "              A_ub=drop_matrix, b_ub=stage_san,\n",
    "              A_eq=craft_constraint_matrix, b_eq=np.zeros(len(craft_constraint_matrix)),\n",
    "              bounds=(0, None)\n",
    "             )\n",
    "\n",
    "print(res.success)\n",
    "## Make dict from itemId -> msv at the end\n",
    "msv = res.x\n",
    "msv_dict = {}\n",
    "for i, d in enumerate(material_ids):\n",
    "    msv_dict[d] = msv[i]\n",
    "    print(\"{}: {:.4f}\".format(item_names[d], msv[i]))"
   ]
  },
  {
   "cell_type": "code",
   "execution_count": 15,
   "id": "93bdefc1",
   "metadata": {},
   "outputs": [
    {
     "name": "stdout",
     "output_type": "stream",
     "text": [
      "LMD: 300\n",
      "RMA70-12: 1\n",
      "Crystalline Component: 1\n",
      "Compound Cutting Fluid: 1\n"
     ]
    }
   ],
   "source": [
    "craft.print_craft_materials(\"Cutting Fluid Solution\", craft_matrix, material_ids, item_names, item_names_rev)"
   ]
  },
  {
   "cell_type": "code",
   "execution_count": 16,
   "id": "8de0579b",
   "metadata": {},
   "outputs": [
    {
     "name": "stdout",
     "output_type": "stream",
     "text": [
      "LMD: 252\n",
      "Crystalline Component: 49.12%\n",
      "Orirock Cube: 35.25%\n",
      "Orirock: 20.58%\n",
      "Device: 15.27%\n",
      "Damaged Device: 7.56%\n",
      "Orirock Cluster: 4.16%\n",
      "Loxic Kohl: 2.95%\n",
      "Coagulating Gel: 2.45%\n",
      "Crystalline Circuit: 2.20%\n",
      "Integrated Device: 1.65%\n"
     ]
    }
   ],
   "source": [
    "stage.print_stage_drops(\"R8-11\", drop_matrix, stage_ids, material_ids, stage_names_rev, item_names)"
   ]
  },
  {
   "cell_type": "code",
   "execution_count": null,
   "id": "2959e85e",
   "metadata": {},
   "outputs": [],
   "source": [
    "event_ids = stage.get_event_ids(\"BI\", psdf, event_names_rev, remove_permanent=True)\n",
    "event_stage_san = stage.get_san_cost(event_ids, stage_san_cost)\n",
    "event_drop_matrix, _ = ak.get_drop_matrix(psdf, event_ids, material_ids, stage_lmd_dict)\n",
    "main_drops = ak.get_main_drops(event_drop_matrix, msv, material_ids)\n",
    "#sanity_return = np.matmul(event_drop_matrix, msv)\n",
    "stack = np.stack([event_ids, ak.get_stage_efficiency(event_drop_matrix, msv, event_stage_san), main_drops]).T\n",
    "for a, b, c in stack:\n",
    "    print(\"{}: {:.4} {}\".format(stage_names[a], float(b), item_names[c]))"
   ]
  },
  {
   "cell_type": "code",
   "execution_count": null,
   "id": "12d2e87a",
   "metadata": {},
   "outputs": [],
   "source": [
    "item_idx = np.where(material_ids == item_names_rev[\"Compound Cutting Fluid\"])[0][0]\n",
    "drops = drop_matrix_all.T[:][item_idx]\n",
    "print(len(drops), len(material_ids), len(stage_ids), drop_matrix_all.shape)\n",
    "for i, d in enumerate(drops):\n",
    "    if d > 0.005:\n",
    "        print(\"{}: {:.4f}%\".format(stage_names[stage_ids[i]], 100*d))"
   ]
  },
  {
   "cell_type": "code",
   "execution_count": null,
   "id": "1f68e136",
   "metadata": {},
   "outputs": [],
   "source": []
  }
 ],
 "metadata": {
  "kernelspec": {
   "display_name": "Python 3 (ipykernel)",
   "language": "python",
   "name": "python3"
  },
  "language_info": {
   "codemirror_mode": {
    "name": "ipython",
    "version": 3
   },
   "file_extension": ".py",
   "mimetype": "text/x-python",
   "name": "python",
   "nbconvert_exporter": "python",
   "pygments_lexer": "ipython3",
   "version": "3.10.5"
  },
  "vscode": {
   "interpreter": {
    "hash": "370af53f32f8c2c8294a0a6c6bcb742e41bf8636d19d5d4d9d243022576e0853"
   }
  }
 },
 "nbformat": 4,
 "nbformat_minor": 5
}
