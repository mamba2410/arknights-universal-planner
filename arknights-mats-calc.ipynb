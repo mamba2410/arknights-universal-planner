{
 "cells": [
  {
   "cell_type": "markdown",
   "id": "c3e1b6a0",
   "metadata": {},
   "source": [
    "## Using ak_requests"
   ]
  },
  {
   "cell_type": "code",
   "execution_count": 1,
   "id": "e1384329",
   "metadata": {},
   "outputs": [],
   "source": [
    "import common as ak\n",
    "import numpy as np\n",
    "from scipy.optimize import linprog\n",
    "\n",
    "%load_ext autoreload\n",
    "%autoreload 2"
   ]
  },
  {
   "cell_type": "code",
   "execution_count": 2,
   "id": "36dc9929",
   "metadata": {},
   "outputs": [],
   "source": [
    "item_dict = ak.get_item_dict(lang=\"en_US\")\n",
    "stage_dict = ak.get_stage_dict()\n",
    "craft_dict = ak.get_craft_dict()\n",
    "psdf = ak.get_pengstats_df(server=\"CN\")"
   ]
  },
  {
   "cell_type": "code",
   "execution_count": 3,
   "id": "f01df9b9",
   "metadata": {},
   "outputs": [],
   "source": [
    "stage_san_cost, stage_names, stage_names_rev, stage_lmd_dict = ak.get_stage_info(psdf, stage_dict)\n",
    "item_names, item_names_rev = ak.get_item_info(item_dict)\n",
    "event_names, event_names_rev = ak.get_event_info(stage_names)"
   ]
  },
  {
   "cell_type": "code",
   "execution_count": 4,
   "id": "e71dee9f",
   "metadata": {},
   "outputs": [],
   "source": [
    "material_ids = ak.get_material_ids(item_names_rev, ak.MATERIAL_NAMES)\n",
    "n_mats_all = len(material_ids)"
   ]
  },
  {
   "cell_type": "code",
   "execution_count": 5,
   "id": "6839e701",
   "metadata": {},
   "outputs": [],
   "source": [
    "#main_stage_ids = ak.get_main_stage_ids(psdf)\n",
    "main_stage_ids = ak.get_main_and_perm_stage_ids(psdf)\n",
    "stage_ids = np.concatenate((main_stage_ids,[\n",
    "    \"wk_melee_5\",\n",
    "    \"wk_kc_5\",\n",
    "    \"wk_fly_5\"\n",
    "]))\n",
    "\n",
    "stage_san_all = ak.get_san_cost(stage_ids, stage_san_cost)\n",
    "n_stages_all = len(stage_ids)"
   ]
  },
  {
   "cell_type": "code",
   "execution_count": 6,
   "id": "edf22c3a",
   "metadata": {},
   "outputs": [],
   "source": [
    "craft_matrix, subprod_matrix = ak.get_craft_matrix(craft_dict, material_ids)"
   ]
  },
  {
   "cell_type": "code",
   "execution_count": 7,
   "id": "4b4c5578",
   "metadata": {},
   "outputs": [],
   "source": [
    "drop_matrix_all, coeff_matrix_all = ak.get_drop_matrix(psdf, stage_ids, material_ids, stage_lmd_dict)"
   ]
  },
  {
   "cell_type": "code",
   "execution_count": 8,
   "id": "2f5d1a7b",
   "metadata": {},
   "outputs": [],
   "source": [
    "drop_matrix, stage_san = ak.filter_drop_matrix(drop_matrix_all, stage_san_all)"
   ]
  },
  {
   "cell_type": "code",
   "execution_count": 9,
   "id": "8bf7807c",
   "metadata": {},
   "outputs": [],
   "source": [
    "byprod_rate = 0.18\n",
    "craft_constraint_matrix = ak.get_craft_constraint_matrix(craft_matrix, subprod_matrix, byprod_rate)"
   ]
  },
  {
   "cell_type": "code",
   "execution_count": 10,
   "id": "444ea929",
   "metadata": {},
   "outputs": [
    {
     "name": "stdout",
     "output_type": "stream",
     "text": [
      "True\n",
      "LMD: 0.004\n",
      "Pure Gold: 11.332\n",
      "Drill Battle Record: 0.769\n",
      "Frontline Battle Record: 1.539\n",
      "Tactical Battle Record: 3.846\n",
      "Strategic Battle Record: 7.693\n",
      "Skill Summary - 1: 1.565\n",
      "Skill Summary - 2: 3.980\n",
      "Skill Summary - 3: 10.119\n",
      "Orirock: 0.817\n",
      "Orirock Cube: 2.526\n",
      "Orirock Cluster: 12.441\n",
      "Orirock Concentration: 46.418\n",
      "Damaged Device: 3.074\n",
      "Device: 9.297\n",
      "Integrated Device: 36.999\n",
      "Optimized Device: 87.967\n",
      "Ester: 1.764\n",
      "Polyester: 5.367\n",
      "Polyester Pack: 21.281\n",
      "Polyester Lump: 88.579\n",
      "Sugar Substitute: 1.848\n",
      "Sugar: 5.618\n",
      "Sugar Pack: 22.285\n",
      "Sugar Lump: 95.583\n",
      "Oriron Shard: 2.266\n",
      "Oriron: 6.872\n",
      "Oriron Cluster: 27.301\n",
      "Oriron Block: 109.536\n",
      "Diketon: 2.264\n",
      "Polyketon: 6.866\n",
      "Aketon: 27.275\n",
      "Keton Colloid: 100.546\n",
      "Loxic Kohl: 22.090\n",
      "White Horse Kohl: 77.830\n",
      "Manganese Ore: 27.058\n",
      "Manganese Trihydrate: 94.141\n",
      "Grindstone: 29.432\n",
      "Grindstone Pentahydrate: 90.386\n",
      "RMA70-12: 36.802\n",
      "RMA70-24: 85.612\n",
      "Polymerization Preparation: 242.722\n",
      "Bipolar Nanoflake: 229.848\n",
      "D32 Steel: 256.360\n",
      "Coagulating Gel: 30.567\n",
      "Polymerized Gel: 79.913\n",
      "Incandescent Alloy: 25.391\n",
      "Incandescent Alloy Block: 88.476\n",
      "Crystalline Component: 21.476\n",
      "Crystalline Circuit: 95.563\n",
      "Crystalline Electronic Unit: 330.087\n",
      "Semi-Synthetic Solvent: 28.374\n",
      "Refined Solvent: 81.537\n",
      "Compound Cutting Fluid: 25.943\n",
      "Cutting Fluid Solution: 80.874\n"
     ]
    }
   ],
   "source": [
    "coeff = np.sum(drop_matrix, axis=0)\n",
    "res = linprog(-coeff,\n",
    "              A_ub=drop_matrix, b_ub=stage_san,\n",
    "              A_eq=craft_constraint_matrix, b_eq=np.zeros(len(craft_constraint_matrix)),\n",
    "              bounds=(0, None)\n",
    "             )\n",
    "\n",
    "print(res.success)\n",
    "## Make dict from itemId -> msv at the end\n",
    "msv = res.x\n",
    "msv_dict = {}\n",
    "for i, d in enumerate(material_ids):\n",
    "    msv_dict[d] = msv[i]\n",
    "    print(\"{}: {:.3f}\".format(item_names[d], msv[i]))"
   ]
  },
  {
   "cell_type": "code",
   "execution_count": 11,
   "id": "93bdefc1",
   "metadata": {},
   "outputs": [
    {
     "name": "stdout",
     "output_type": "stream",
     "text": [
      "LMD: 300\n",
      "RMA70-12: 1\n",
      "Crystalline Component: 1\n",
      "Compound Cutting Fluid: 1\n"
     ]
    }
   ],
   "source": [
    "ak.print_craft_materials(\"Cutting Fluid Solution\", craft_matrix, material_ids, item_names, item_names_rev)"
   ]
  },
  {
   "cell_type": "code",
   "execution_count": 12,
   "id": "8de0579b",
   "metadata": {},
   "outputs": [
    {
     "name": "stdout",
     "output_type": "stream",
     "text": [
      "LMD: 252\n",
      "Crystalline Component: 52.71%\n",
      "Orirock Cube: 36.70%\n",
      "Orirock: 21.42%\n",
      "Device: 13.91%\n",
      "Pure Gold: 10.17%\n",
      "Damaged Device: 7.94%\n",
      "Orirock Cluster: 3.27%\n",
      "Crystalline Circuit: 2.69%\n",
      "Loxic Kohl: 2.66%\n",
      "Coagulating Gel: 2.09%\n",
      "Integrated Device: 1.82%\n"
     ]
    }
   ],
   "source": [
    "ak.print_stage_drops(\"R8-11\", drop_matrix, stage_ids, material_ids, stage_names_rev, item_names)"
   ]
  },
  {
   "cell_type": "code",
   "execution_count": 13,
   "id": "3e01d2e2",
   "metadata": {},
   "outputs": [
    {
     "name": "stdout",
     "output_type": "stream",
     "text": [
      "wk_kc_5\n"
     ]
    }
   ],
   "source": [
    "print(stage_names_rev[\"LS-5\"])"
   ]
  },
  {
   "cell_type": "code",
   "execution_count": 14,
   "id": "67ef01ce",
   "metadata": {},
   "outputs": [
    {
     "name": "stdout",
     "output_type": "stream",
     "text": [
      "3003\n"
     ]
    }
   ],
   "source": [
    "print(item_names_rev[\"Pure Gold\"])"
   ]
  },
  {
   "cell_type": "code",
   "execution_count": 15,
   "id": "2959e85e",
   "metadata": {},
   "outputs": [
    {
     "name": "stdout",
     "output_type": "stream",
     "text": [
      "[0.55341544 0.54279609 0.51266984 0.71364978 0.86720514 0.73884496\n",
      " 0.88446222 1.06199691 0.93620687 1.00782741]\n"
     ]
    }
   ],
   "source": [
    "event_ids = ak.get_event_ids(\"NL\", psdf, event_names_rev)\n",
    "event_stage_san = ak.get_san_cost(event_ids, stage_san_cost)\n",
    "event_drop_matrix, _ = ak.get_drop_matrix(psdf, event_ids, material_ids, stage_lmd_dict)\n",
    "#sanity_return = np.matmul(event_drop_matrix, msv)\n",
    "print(ak.get_stage_efficiency(event_drop_matrix, msv, event_stage_san))"
   ]
  },
  {
   "cell_type": "code",
   "execution_count": null,
   "id": "12d2e87a",
   "metadata": {},
   "outputs": [],
   "source": []
  }
 ],
 "metadata": {
  "kernelspec": {
   "display_name": "Python 3 (ipykernel)",
   "language": "python",
   "name": "python3"
  },
  "language_info": {
   "codemirror_mode": {
    "name": "ipython",
    "version": 3
   },
   "file_extension": ".py",
   "mimetype": "text/x-python",
   "name": "python",
   "nbconvert_exporter": "python",
   "pygments_lexer": "ipython3",
   "version": "3.10.5"
  }
 },
 "nbformat": 4,
 "nbformat_minor": 5
}
