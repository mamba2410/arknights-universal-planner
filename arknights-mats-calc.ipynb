{
 "cells": [
  {
   "cell_type": "markdown",
   "id": "c3e1b6a0",
   "metadata": {},
   "source": [
    "## Calculate drop chances and material sanity value\n",
    "\n",
    "Values from [Penguin Statistics](https://penguin-stats.io/) can change between CN or US servers, CN used by default.\n",
    "\n",
    "Assumptions which I don't know are correct:\n",
    "- Don't include weekly stages tiers 1-4\n",
    "- Pure gold can craft to 500 LMD\n",
    "- Battle records can be crafted higher/lower based on their EXP value\n",
    "- Coefficients are sum of drop rates for each item\n",
    "\n",
    "Things which I might need to include?\n",
    "- Moe devalues drills by 0.78368 of LS-5, how?\n",
    "- Moe bases pure gold value based on factory production time, how?"
   ]
  },
  {
   "cell_type": "code",
   "execution_count": 1,
   "id": "e1384329",
   "metadata": {},
   "outputs": [],
   "source": [
    "import common as ak\n",
    "import materials, craft, stage\n",
    "import numpy as np\n",
    "import numpy.typing as npt\n",
    "from scipy.optimize import linprog\n",
    "\n",
    "from drop_packet import DropPacket\n",
    "\n",
    "%load_ext autoreload\n",
    "%autoreload 2"
   ]
  },
  {
   "cell_type": "markdown",
   "id": "17b05b82",
   "metadata": {},
   "source": [
    "### Get data from online/file"
   ]
  },
  {
   "cell_type": "code",
   "execution_count": 2,
   "id": "36dc9929",
   "metadata": {},
   "outputs": [
    {
     "name": "stdout",
     "output_type": "stream",
     "text": [
      "Reading from local file\n",
      "Reading from local file\n",
      "Reading from local file\n"
     ]
    }
   ],
   "source": [
    "item_dict = ak.get_item_dict(lang=\"en_US\", local=True)\n",
    "stage_dict = ak.get_stage_dict(lang=\"zh_CN\", local=True)\n",
    "craft_dict = ak.get_craft_dict(lang=\"zh_CN\", local=True)\n",
    "psdf = ak.get_pengstats_df(server=\"CN\")"
   ]
  },
  {
   "cell_type": "markdown",
   "id": "f6e1c449",
   "metadata": {},
   "source": [
    "### Get name dictionaries\n",
    "```\n",
    "item_names: id -> name\n",
    "item_names_rev: name -> id\n",
    "```\n",
    "Same for stages and events. `event_name` is eg \"WR\", \"BI\" etc.\n"
   ]
  },
  {
   "cell_type": "code",
   "execution_count": 3,
   "id": "b61d7cd9",
   "metadata": {},
   "outputs": [],
   "source": [
    "stage_san_dict, stage_names, stage_names_rev, stage_lmd_dict = stage.get_stage_info(psdf, stage_dict)\n",
    "item_names, item_names_rev = ak.get_item_info(item_dict)\n",
    "event_names, event_names_rev = stage.get_event_info(stage_names)"
   ]
  },
  {
   "cell_type": "markdown",
   "id": "fc071fbf",
   "metadata": {},
   "source": [
    "### Stages and materials to use to calculate MSV\n",
    "\n",
    "Material IDs are from [materials.py](materials.py).\n",
    "By default, they include materials, LMD, pure gold, skill summaries and battle records.\n",
    "\n",
    "Stage IDs are main story, all permanent event stages and CE-5, LS-5 and CA-5."
   ]
  },
  {
   "cell_type": "code",
   "execution_count": 4,
   "id": "e71dee9f",
   "metadata": {},
   "outputs": [],
   "source": [
    "material_ids = ak.get_material_ids(item_names_rev, materials.MATERIAL_NAMES)"
   ]
  },
  {
   "cell_type": "code",
   "execution_count": 5,
   "id": "6839e701",
   "metadata": {},
   "outputs": [],
   "source": [
    "#main_stage_ids = ak.get_main_stage_ids(psdf)\n",
    "main_stage_ids = stage.get_main_and_perm_stage_ids(psdf)\n",
    "stage_ids_all = np.concatenate((main_stage_ids,[\n",
    "    \"wk_melee_5\",\n",
    "    \"wk_kc_5\",\n",
    "    \"wk_fly_5\"\n",
    "]))"
   ]
  },
  {
   "cell_type": "markdown",
   "id": "e4286bd4",
   "metadata": {},
   "source": [
    "### Get crafting matrix involving all materials"
   ]
  },
  {
   "cell_type": "code",
   "execution_count": 6,
   "id": "edf22c3a",
   "metadata": {},
   "outputs": [],
   "source": [
    "craft_matrix, subprod_matrix = craft.get_craft_matrix(craft_dict, material_ids, item_names_rev)"
   ]
  },
  {
   "cell_type": "markdown",
   "id": "812ebefe",
   "metadata": {},
   "source": [
    "### Get drops of all stages and package it up\n",
    "\n",
    "Filter stages by removing all stages with either no drops or cost 0 sanity.\n",
    "Apply a floor to the drop matrix, removing all drops lower than a certain percentage. By default, 1% "
   ]
  },
  {
   "cell_type": "code",
   "execution_count": 7,
   "id": "4b4c5578",
   "metadata": {},
   "outputs": [],
   "source": [
    "drop_packet_all, _coeff_matrix_all = stage.get_drop_matrix(psdf, stage_ids_all, material_ids,\n",
    "                                                          stage_lmd_dict, stage_san_dict)\n",
    "\n",
    "drop_packet_all.filter_stages()\n",
    "\n",
    "cutoff_threshold = 0.01\n",
    "drop_packet_all.drop_matrix_cutoff(cutoff_threshold)"
   ]
  },
  {
   "cell_type": "markdown",
   "id": "e1572577",
   "metadata": {},
   "source": [
    "### Calculate MSV of all materials using the drop matrix prior\n",
    "\n",
    "Minimise sanity value of all items, subject to constraints:\n",
    "- In crafting, value of product is equal to sum of ingredients.\n",
    "- Sanity return of a stage <= stage sanity cost\n",
    "\n",
    "Coefficients are the sum of the drop chances for each item. Not sure if this is right, alternative way is with `coeff_matrix_all` which is \n",
    "\n",
    "$$\n",
    "\\frac{\\text{sum of item loots on all stages}}{\\text{sum of all stage clears which can drop that item}}\n",
    "$$\n",
    "\n",
    "Assume a crafting byproduct rate of 18% (because fuck you Nian, you never give me byproducts)\n",
    "\n",
    "Use `scipy.optimize.linprog` to minimise the series of linear equations."
   ]
  },
  {
   "cell_type": "code",
   "execution_count": 8,
   "id": "8bf7807c",
   "metadata": {},
   "outputs": [],
   "source": [
    "byprod_rate = 0.18\n",
    "craft_constraint_matrix = ak.get_craft_constraint_matrix(craft_matrix,\n",
    "                                                         subprod_matrix, byprod_rate)"
   ]
  },
  {
   "cell_type": "code",
   "execution_count": 9,
   "id": "444ea929",
   "metadata": {},
   "outputs": [
    {
     "name": "stdout",
     "output_type": "stream",
     "text": [
      "True\n",
      "LMD: 0.0040\n",
      "Pure Gold: 9.4197\n",
      "Skill Summary - 1: 1.5655\n",
      "Skill Summary - 2: 3.9801\n",
      "Skill Summary - 3: 10.1190\n",
      "Drill Battle Record: 0.7718\n",
      "Frontline Battle Record: 1.5437\n",
      "Tactical Battle Record: 3.8591\n",
      "Strategic Battle Record: 7.7183\n",
      "Orirock: 0.8592\n",
      "Orirock Cube: 2.6497\n",
      "Orirock Cluster: 13.0507\n",
      "Orirock Concentration: 48.8105\n",
      "Damaged Device: 3.0735\n",
      "Device: 9.2926\n",
      "Integrated Device: 36.9729\n",
      "Optimized Device: 89.7897\n",
      "Ester: 1.7987\n",
      "Polyester: 5.4681\n",
      "Polyester Pack: 21.6747\n",
      "Polyester Lump: 90.1551\n",
      "Sugar Substitute: 1.8899\n",
      "Sugar: 5.7417\n",
      "Sugar Pack: 22.7694\n",
      "Sugar Lump: 96.0457\n",
      "Oriron Shard: 2.2114\n",
      "Oriron: 6.7062\n",
      "Oriron Cluster: 26.6273\n",
      "Oriron Block: 108.5097\n",
      "Diketon: 2.2697\n",
      "Polyketon: 6.8810\n",
      "Aketon: 27.3266\n",
      "Keton Colloid: 101.3022\n",
      "Loxic Kohl: 22.8716\n",
      "White Horse Kohl: 79.5131\n",
      "Manganese Ore: 27.2721\n",
      "Manganese Trihydrate: 95.6980\n",
      "Grindstone: 30.1078\n",
      "Grindstone Pentahydrate: 90.3155\n",
      "RMA70-12: 37.2646\n",
      "RMA70-24: 87.3002\n",
      "Polymerization Preparation: 244.7147\n",
      "Bipolar Nanoflake: 234.9081\n",
      "D32 Steel: 259.4060\n",
      "Coagulating Gel: 29.1266\n",
      "Polymerized Gel: 78.2001\n",
      "Incandescent Alloy: 25.8387\n",
      "Incandescent Alloy Block: 89.5269\n",
      "Crystalline Component: 21.7116\n",
      "Crystalline Circuit: 94.9960\n",
      "Crystalline Electronic Unit: 327.0155\n",
      "Semi-Synthetic Solvent: 29.0048\n",
      "Refined Solvent: 81.2694\n",
      "Compound Cutting Fluid: 26.5305\n",
      "Cutting Fluid Solution: 82.1141\n"
     ]
    }
   ],
   "source": [
    "coeff = np.sum(drop_packet_all.drop_matrix, axis=0)\n",
    "#coeff = _coeff_matrix_all\n",
    "\n",
    "res = linprog(-coeff,\n",
    "              A_ub=drop_packet_all.drop_matrix, b_ub=drop_packet_all.san_cost,\n",
    "              A_eq=craft_constraint_matrix, b_eq=np.zeros(len(craft_constraint_matrix)),\n",
    "              bounds=(0, None)\n",
    "             )\n",
    "\n",
    "print(res.success)\n",
    "## Make dict from itemId -> msv at the end\n",
    "msv = res.x\n",
    "msv_dict = {}\n",
    "for i, d in enumerate(drop_packet_all.item_ids):\n",
    "    msv_dict[d] = msv[i]\n",
    "    print(\"{}: {:.4f}\".format(item_names[d], msv[i]))"
   ]
  },
  {
   "cell_type": "markdown",
   "id": "f9af71e3",
   "metadata": {},
   "source": [
    "## Toys, not related to calcing MSV"
   ]
  },
  {
   "cell_type": "code",
   "execution_count": 10,
   "id": "93bdefc1",
   "metadata": {},
   "outputs": [
    {
     "name": "stdout",
     "output_type": "stream",
     "text": [
      "LMD: 300\n",
      "RMA70-12: 1\n",
      "Crystalline Component: 1\n",
      "Compound Cutting Fluid: 1\n"
     ]
    }
   ],
   "source": [
    "craft.print_craft_materials(\"Cutting Fluid Solution\", craft_matrix, material_ids, item_names, item_names_rev)"
   ]
  },
  {
   "cell_type": "markdown",
   "id": "53f251cc",
   "metadata": {},
   "source": [
    "### Calculate efficiency of event stages compared to main stages\n",
    "\n",
    "$$\n",
    "\\text{stage efficiency} = \\frac{\\sum{\\text{MSV} * \\text{drop rate}}}{\\text{stage cost}}\n",
    "$$\n",
    "\n",
    "If `>=1` then stage is as good or better to farm (yields more materials per sanity on average) than the best permanent stages."
   ]
  },
  {
   "cell_type": "code",
   "execution_count": 11,
   "id": "2959e85e",
   "metadata": {},
   "outputs": [
    {
     "name": "stdout",
     "output_type": "stream",
     "text": [
      "          stage_id item_id efficiency     stage_name           item_name\n",
      "0       act16d5_01   30021   0.566226           WR-1    Sugar Substitute\n",
      "1   act16d5_01_rep   30021   0.597316   WR-1 (rerun)    Sugar Substitute\n",
      "2       act16d5_02   30031   0.520228           WR-2               Ester\n",
      "3   act16d5_02_rep   30031   0.544929   WR-2 (rerun)               Ester\n",
      "4       act16d5_03   30041   0.481202           WR-3        Oriron Shard\n",
      "5   act16d5_03_rep   30041   0.505486   WR-3 (rerun)        Oriron Shard\n",
      "6       act16d5_04   30032   0.745523           WR-4           Polyester\n",
      "7   act16d5_04_rep   30032   0.752249   WR-4 (rerun)           Polyester\n",
      "8       act16d5_05   30052   0.847824           WR-5           Polyketon\n",
      "9   act16d5_05_rep   30052   0.774993   WR-5 (rerun)           Polyketon\n",
      "10      act16d5_06   30012    0.58689           WR-6        Orirock Cube\n",
      "11  act16d5_06_rep   30012   0.584159   WR-6 (rerun)        Orirock Cube\n",
      "12      act16d5_07   30042   0.823083           WR-7              Oriron\n",
      "13  act16d5_07_rep   30042   0.815697   WR-7 (rerun)              Oriron\n",
      "14      act16d5_08   31023   1.074047           WR-8  Incandescent Alloy\n",
      "15  act16d5_08_rep   31023   1.057531   WR-8 (rerun)  Incandescent Alloy\n",
      "16      act16d5_09   30033   1.043308           WR-9      Polyester Pack\n",
      "17  act16d5_09_rep   30033   1.045264   WR-9 (rerun)      Polyester Pack\n",
      "18      act16d5_10   30013   0.723303          WR-10     Orirock Cluster\n",
      "19  act16d5_10_rep   30013   0.727036  WR-10 (rerun)     Orirock Cluster\n"
     ]
    }
   ],
   "source": [
    "event_stage_ids = stage.get_event_ids(\"WR\", psdf, event_names_rev, remove_permanent=True)\n",
    "event_drop_packet, _ = stage.get_drop_matrix(psdf, event_stage_ids, material_ids,\n",
    "                                         stage_lmd_dict, stage_san_dict)\n",
    "#print(event_drop_packet.drop_matrix)\n",
    "stack_ = stage.print_stage_efficiency(event_drop_packet, msv, stage_names, item_names)\n",
    "#for a, b, c in stack:\n",
    "#    print(\"{}:\\t\\t{:.4}\\t{}\".format(stage_names[a], float(b), item_names[c]))\n",
    "print(stack_)"
   ]
  },
  {
   "cell_type": "code",
   "execution_count": 12,
   "id": "8de0579b",
   "metadata": {},
   "outputs": [
    {
     "name": "stdout",
     "output_type": "stream",
     "text": [
      "LMD: 252\n",
      "Crystalline Component: 52.79%\n",
      "Orirock Cube: 36.70%\n",
      "Orirock: 21.41%\n",
      "Device: 13.95%\n",
      "Pure Gold: 10.17%\n",
      "Damaged Device: 7.96%\n",
      "Orirock Cluster: 3.26%\n",
      "Crystalline Circuit: 2.70%\n",
      "Loxic Kohl: 2.66%\n",
      "Coagulating Gel: 2.08%\n",
      "Integrated Device: 1.81%\n"
     ]
    }
   ],
   "source": [
    "_ = stage.print_stage_drops(stage_names_rev[\"R8-11\"], drop_packet_all, item_names)"
   ]
  },
  {
   "cell_type": "code",
   "execution_count": 13,
   "id": "12d2e87a",
   "metadata": {},
   "outputs": [
    {
     "name": "stdout",
     "output_type": "stream",
     "text": [
      "10-17: 57.4899%\n",
      "SN-1 (permanent): 27.2727%\n",
      "9-6: 27.1717%\n",
      "10-15: 1.8682%\n",
      "10-14: 1.2518%\n",
      "7-14: 1.2308%\n",
      "4-8: 1.1294%\n",
      "4-5: 1.1245%\n",
      "9-2: 1.1129%\n",
      "9-11: 1.0638%\n",
      "6-4: 1.0582%\n",
      "9-12: 1.0204%\n",
      "9-19: 1.0083%\n"
     ]
    }
   ],
   "source": [
    "stages_ = stage.get_stages_which_drop(\"Compound Cutting Fluid\", drop_packet_all.drop_matrix,\n",
    "                                      material_ids, stage_ids_all, item_names_rev)\n",
    "for s, d in stages_:\n",
    "        print(\"{}: {:.4f}%\".format(stage_names[s], 100*d))\n"
   ]
  },
  {
   "cell_type": "code",
   "execution_count": 14,
   "id": "1f68e136",
   "metadata": {},
   "outputs": [],
   "source": [
    "def get_expected_sanity(drop_packet: DropPacket, item_id: str, stage_id: str, n_items: int) -> float:\n",
    "    espd = drop_packet.get_espd(item_id, stage_id)\n",
    "    total_sanity = espd * n_items\n",
    "    return total_sanity\n",
    "    \n",
    "def get_outstanding_op(drop_packet: DropPacket, item_id: str, stage_id: str, n_items: int,\n",
    "                       days_left: int, daily_san = ak.DAILY_SAN, san_per_op = ak.SAN_PER_OP) -> float:\n",
    "    total_san = get_expected_sanity(drop_packet, item_id, stage_id, n_items)\n",
    "    outstanding_san = total_san - days_left * daily_san\n",
    "    outstanding_op = outstanding_san/san_per_op\n",
    "    return outstanding_op"
   ]
  },
  {
   "cell_type": "code",
   "execution_count": 15,
   "id": "c24e0337",
   "metadata": {},
   "outputs": [
    {
     "name": "stdout",
     "output_type": "stream",
     "text": [
      "Remaining OP: 11.18\n"
     ]
    }
   ],
   "source": [
    "remaining_op = get_outstanding_op(event_drop_packet, item_names_rev[\"Incandescent Alloy\"],\n",
    "                          stage_names_rev[\"WR-8 (rerun)\"], 141, 7)\n",
    "print(\"Remaining OP: {:.2f}\".format(remaining_op))"
   ]
  },
  {
   "cell_type": "code",
   "execution_count": null,
   "id": "0843ec78",
   "metadata": {},
   "outputs": [],
   "source": []
  }
 ],
 "metadata": {
  "kernelspec": {
   "display_name": "Python 3 (ipykernel)",
   "language": "python",
   "name": "python3"
  },
  "language_info": {
   "codemirror_mode": {
    "name": "ipython",
    "version": 3
   },
   "file_extension": ".py",
   "mimetype": "text/x-python",
   "name": "python",
   "nbconvert_exporter": "python",
   "pygments_lexer": "ipython3",
   "version": "3.10.5"
  },
  "vscode": {
   "interpreter": {
    "hash": "370af53f32f8c2c8294a0a6c6bcb742e41bf8636d19d5d4d9d243022576e0853"
   }
  }
 },
 "nbformat": 4,
 "nbformat_minor": 5
}
