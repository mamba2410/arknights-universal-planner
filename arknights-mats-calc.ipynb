{
 "cells": [
  {
   "cell_type": "markdown",
   "id": "c3e1b6a0",
   "metadata": {},
   "source": [
    "## Using ak_requests"
   ]
  },
  {
   "cell_type": "code",
   "execution_count": 1,
   "id": "e1384329",
   "metadata": {},
   "outputs": [],
   "source": [
    "import common as ak\n",
    "import materials\n",
    "import numpy as np\n",
    "from scipy.optimize import linprog\n",
    "\n",
    "%load_ext autoreload\n",
    "%autoreload 2"
   ]
  },
  {
   "cell_type": "code",
   "execution_count": 2,
   "id": "36dc9929",
   "metadata": {},
   "outputs": [
    {
     "name": "stdout",
     "output_type": "stream",
     "text": [
      "Reading from local file\n",
      "Reading from remote\n",
      "Reading from local file\n"
     ]
    }
   ],
   "source": [
    "item_dict = ak.get_item_dict(lang=\"en_US\", local=True)\n",
    "stage_dict = ak.get_stage_dict(lang=\"zh_CN\", local=True)\n",
    "craft_dict = ak.get_craft_dict(lang=\"zh_CN\", local=True)\n",
    "psdf = ak.get_pengstats_df(server=\"CN\")"
   ]
  },
  {
   "cell_type": "code",
   "execution_count": 3,
   "id": "f01df9b9",
   "metadata": {},
   "outputs": [],
   "source": [
    "stage_san_cost, stage_names, stage_names_rev, stage_lmd_dict = ak.get_stage_info(psdf, stage_dict)\n",
    "item_names, item_names_rev = ak.get_item_info(item_dict)\n",
    "event_names, event_names_rev = ak.get_event_info(stage_names)"
   ]
  },
  {
   "cell_type": "code",
   "execution_count": 4,
   "id": "e71dee9f",
   "metadata": {},
   "outputs": [],
   "source": [
    "material_ids = ak.get_material_ids(item_names_rev, materials.MATERIAL_NAMES)\n",
    "n_mats_all = len(material_ids)"
   ]
  },
  {
   "cell_type": "code",
   "execution_count": 5,
   "id": "6839e701",
   "metadata": {},
   "outputs": [],
   "source": [
    "#main_stage_ids = ak.get_main_stage_ids(psdf)\n",
    "main_stage_ids = ak.get_main_and_perm_stage_ids(psdf)\n",
    "stage_ids = np.concatenate((main_stage_ids,[\n",
    "    \"wk_melee_5\",\n",
    "    \"wk_kc_5\",\n",
    "    \"wk_fly_5\"\n",
    "]))\n",
    "\n",
    "stage_san_all = ak.get_san_cost(stage_ids, stage_san_cost)\n",
    "n_stages_all = len(stage_ids)"
   ]
  },
  {
   "cell_type": "code",
   "execution_count": 6,
   "id": "edf22c3a",
   "metadata": {},
   "outputs": [],
   "source": [
    "craft_matrix, subprod_matrix = ak.get_craft_matrix(craft_dict, material_ids, item_names_rev)"
   ]
  },
  {
   "cell_type": "code",
   "execution_count": 7,
   "id": "4b4c5578",
   "metadata": {},
   "outputs": [],
   "source": [
    "drop_matrix_all, coeff_matrix_all = ak.get_drop_matrix(psdf, stage_ids, material_ids, stage_lmd_dict)"
   ]
  },
  {
   "cell_type": "code",
   "execution_count": 8,
   "id": "2f5d1a7b",
   "metadata": {},
   "outputs": [],
   "source": [
    "drop_matrix, stage_san = ak.filter_drop_matrix(drop_matrix_all, stage_san_all)"
   ]
  },
  {
   "cell_type": "code",
   "execution_count": 9,
   "id": "8bf7807c",
   "metadata": {},
   "outputs": [],
   "source": [
    "byprod_rate = 0.18\n",
    "craft_constraint_matrix = ak.get_craft_constraint_matrix(craft_matrix, subprod_matrix, byprod_rate)"
   ]
  },
  {
   "cell_type": "code",
   "execution_count": 10,
   "id": "444ea929",
   "metadata": {},
   "outputs": [
    {
     "name": "stdout",
     "output_type": "stream",
     "text": [
      "True\n",
      "LMD: 0.003\n",
      "Skill Summary - 1: 1.585\n",
      "Skill Summary - 2: 4.029\n",
      "Skill Summary - 3: 10.244\n",
      "Orirock: 1.352\n",
      "Orirock Cube: 3.984\n",
      "Orirock Cluster: 19.410\n",
      "Orirock Concentration: 73.736\n",
      "Damaged Device: 3.288\n",
      "Device: 9.792\n",
      "Integrated Device: 38.659\n",
      "Optimized Device: 102.628\n",
      "Ester: 1.991\n",
      "Polyester: 5.899\n",
      "Polyester Pack: 23.087\n",
      "Polyester Lump: 94.148\n",
      "Sugar Substitute: 2.015\n",
      "Sugar: 5.971\n",
      "Sugar Pack: 23.374\n",
      "Sugar Lump: 98.992\n",
      "Oriron Shard: 2.413\n",
      "Oriron: 7.165\n",
      "Oriron Cluster: 28.153\n",
      "Oriron Block: 114.146\n",
      "Diketon: 2.444\n",
      "Polyketon: 7.259\n",
      "Aketon: 28.527\n",
      "Keton Colloid: 104.519\n",
      "Loxic Kohl: 23.353\n",
      "White Horse Kohl: 77.556\n",
      "Manganese Ore: 27.997\n",
      "Manganese Trihydrate: 98.528\n",
      "Grindstone: 29.055\n",
      "Grindstone Pentahydrate: 91.961\n",
      "RMA70-12: 34.735\n",
      "RMA70-24: 98.178\n",
      "Polymerization Preparation: 277.170\n",
      "Bipolar Nanoflake: 242.510\n",
      "D32 Steel: 273.436\n",
      "Coagulating Gel: 31.029\n",
      "Polymerized Gel: 82.127\n",
      "Incandescent Alloy: 26.850\n",
      "Incandescent Alloy Block: 90.657\n",
      "Crystalline Component: 22.014\n",
      "Crystalline Circuit: 98.002\n",
      "Crystalline Electronic Unit: 337.682\n",
      "Semi-Synthetic Solvent: 30.008\n",
      "Refined Solvent: 83.802\n",
      "Compound Cutting Fluid: 26.671\n",
      "Cutting Fluid Solution: 79.515\n"
     ]
    }
   ],
   "source": [
    "coeff = np.sum(drop_matrix, axis=0)\n",
    "res = linprog(-coeff,\n",
    "              A_ub=drop_matrix, b_ub=stage_san,\n",
    "              A_eq=craft_constraint_matrix, b_eq=np.zeros(len(craft_constraint_matrix)),\n",
    "              bounds=(0, None)\n",
    "             )\n",
    "\n",
    "print(res.success)\n",
    "## Make dict from itemId -> msv at the end\n",
    "msv = res.x\n",
    "msv_dict = {}\n",
    "for i, d in enumerate(material_ids):\n",
    "    msv_dict[d] = msv[i]\n",
    "    print(\"{}: {:.3f}\".format(item_names[d], msv[i]))"
   ]
  },
  {
   "cell_type": "code",
   "execution_count": 11,
   "id": "93bdefc1",
   "metadata": {},
   "outputs": [
    {
     "name": "stdout",
     "output_type": "stream",
     "text": [
      "LMD: 300\n",
      "RMA70-12: 1\n",
      "Crystalline Component: 1\n",
      "Compound Cutting Fluid: 1\n"
     ]
    }
   ],
   "source": [
    "ak.print_craft_materials(\"Cutting Fluid Solution\", craft_matrix, material_ids, item_names, item_names_rev)"
   ]
  },
  {
   "cell_type": "code",
   "execution_count": 17,
   "id": "8de0579b",
   "metadata": {},
   "outputs": [
    {
     "name": "stdout",
     "output_type": "stream",
     "text": [
      "LMD: 252\n",
      "Crystalline Component: 52.80%\n",
      "Orirock Cube: 36.71%\n",
      "Orirock: 21.39%\n",
      "Device: 13.95%\n",
      "Damaged Device: 7.94%\n",
      "Orirock Cluster: 3.27%\n",
      "Crystalline Circuit: 2.68%\n",
      "Loxic Kohl: 2.67%\n",
      "Coagulating Gel: 2.08%\n",
      "Integrated Device: 1.82%\n"
     ]
    }
   ],
   "source": [
    "ak.print_stage_drops(\"R8-11\", drop_matrix, stage_ids, material_ids, stage_names_rev, item_names)"
   ]
  },
  {
   "cell_type": "code",
   "execution_count": 13,
   "id": "3e01d2e2",
   "metadata": {},
   "outputs": [
    {
     "name": "stdout",
     "output_type": "stream",
     "text": [
      "wk_kc_5\n"
     ]
    }
   ],
   "source": [
    "print(stage_names_rev[\"LS-5\"])"
   ]
  },
  {
   "cell_type": "code",
   "execution_count": 14,
   "id": "67ef01ce",
   "metadata": {},
   "outputs": [
    {
     "name": "stdout",
     "output_type": "stream",
     "text": [
      "3003\n"
     ]
    }
   ],
   "source": [
    "print(item_names_rev[\"Pure Gold\"])"
   ]
  },
  {
   "cell_type": "code",
   "execution_count": 30,
   "id": "2959e85e",
   "metadata": {},
   "outputs": [
    {
     "name": "stdout",
     "output_type": "stream",
     "text": [
      "WR-1: 0.5894 Sugar Substitute\n",
      "WR-1 (permanent): 0.5608 Polyester\n",
      "WR-1 (rerun): 0.5862 Sugar Substitute\n",
      "WR-2: 0.554 Ester\n",
      "WR-2 (permanent): 0.6 Polyketon\n",
      "WR-2 (rerun): 0.5455 Ester\n",
      "WR-3: 0.5671 Oriron Shard\n",
      "WR-3 (rerun): 0.5597 Oriron Shard\n",
      "WR-4: 0.8674 Polyester\n",
      "WR-4 (rerun): 0.8392 Polyester\n",
      "WR-5: 0.8797 Polyketon\n",
      "WR-5 (rerun): 0.7666 Polyketon\n",
      "WR-6: 0.7747 Orirock Cube\n",
      "WR-6 (rerun): 0.7326 Orirock Cube\n",
      "WR-7: 0.8565 Oriron\n",
      "WR-7 (rerun): 0.8128 Oriron\n",
      "WR-8: 1.102 Incandescent Alloy\n",
      "WR-8 (permanent): 0.9275 Incandescent Alloy\n",
      "WR-8 (rerun): 1.049 Incandescent Alloy\n",
      "WR-9: 1.096 Polyester Pack\n",
      "WR-9 (permanent): 0.5963 Polyester Pack\n",
      "WR-9 (rerun): 1.062 Polyester Pack\n",
      "WR-10: 1.041 Orirock Cluster\n",
      "WR-10 (permanent): 0.9341 Orirock Cluster\n",
      "WR-10 (rerun): 1.01 Orirock Cluster\n"
     ]
    }
   ],
   "source": [
    "event_ids = ak.get_event_ids(\"WR\", psdf, event_names_rev)\n",
    "event_stage_san = ak.get_san_cost(event_ids, stage_san_cost)\n",
    "event_drop_matrix, _ = ak.get_drop_matrix(psdf, event_ids, material_ids, stage_lmd_dict)\n",
    "main_drops = ak.get_main_drops(event_drop_matrix, msv, material_ids)\n",
    "#sanity_return = np.matmul(event_drop_matrix, msv)\n",
    "stack = np.stack([event_ids, ak.get_stage_efficiency(event_drop_matrix, msv, event_stage_san), main_drops]).T\n",
    "for a, b, c in stack:\n",
    "    print(\"{}: {:.4} {}\".format(stage_names[a], float(b), item_names[c]))"
   ]
  },
  {
   "cell_type": "code",
   "execution_count": null,
   "id": "12d2e87a",
   "metadata": {},
   "outputs": [],
   "source": []
  }
 ],
 "metadata": {
  "kernelspec": {
   "display_name": "Python 3.8.13 ('base')",
   "language": "python",
   "name": "python3"
  },
  "language_info": {
   "codemirror_mode": {
    "name": "ipython",
    "version": 3
   },
   "file_extension": ".py",
   "mimetype": "text/x-python",
   "name": "python",
   "nbconvert_exporter": "python",
   "pygments_lexer": "ipython3",
   "version": "3.8.13"
  },
  "vscode": {
   "interpreter": {
    "hash": "370af53f32f8c2c8294a0a6c6bcb742e41bf8636d19d5d4d9d243022576e0853"
   }
  }
 },
 "nbformat": 4,
 "nbformat_minor": 5
}
