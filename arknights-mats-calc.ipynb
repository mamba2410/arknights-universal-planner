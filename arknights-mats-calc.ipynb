{
 "cells": [
  {
   "cell_type": "markdown",
   "id": "c3e1b6a0",
   "metadata": {},
   "source": [
    "## Using ak_requests"
   ]
  },
  {
   "cell_type": "code",
   "execution_count": 1,
   "id": "e1384329",
   "metadata": {},
   "outputs": [],
   "source": [
    "import common as ak\n",
    "import materials, craft, stage\n",
    "import numpy as np\n",
    "import numpy.typing as npt\n",
    "from scipy.optimize import linprog\n",
    "\n",
    "from drop_packet import DropPacket\n",
    "\n",
    "%load_ext autoreload\n",
    "%autoreload 2"
   ]
  },
  {
   "cell_type": "code",
   "execution_count": 2,
   "id": "36dc9929",
   "metadata": {},
   "outputs": [
    {
     "name": "stdout",
     "output_type": "stream",
     "text": [
      "Reading from local file\n",
      "Reading from local file\n",
      "Reading from local file\n"
     ]
    }
   ],
   "source": [
    "item_dict = ak.get_item_dict(lang=\"en_US\", local=True)\n",
    "stage_dict = ak.get_stage_dict(lang=\"zh_CN\", local=True)\n",
    "craft_dict = ak.get_craft_dict(lang=\"zh_CN\", local=True)\n",
    "psdf = ak.get_pengstats_df(server=\"CN\")"
   ]
  },
  {
   "cell_type": "code",
   "execution_count": 3,
   "id": "f01df9b9",
   "metadata": {},
   "outputs": [],
   "source": [
    "stage_san_dict, stage_names, stage_names_rev, stage_lmd_dict = stage.get_stage_info(psdf, stage_dict)\n",
    "item_names, item_names_rev = ak.get_item_info(item_dict)\n",
    "event_names, event_names_rev = stage.get_event_info(stage_names)"
   ]
  },
  {
   "cell_type": "code",
   "execution_count": 4,
   "id": "e71dee9f",
   "metadata": {},
   "outputs": [],
   "source": [
    "material_ids = ak.get_material_ids(item_names_rev, materials.MATERIAL_NAMES)"
   ]
  },
  {
   "cell_type": "code",
   "execution_count": 5,
   "id": "6839e701",
   "metadata": {},
   "outputs": [],
   "source": [
    "#main_stage_ids = ak.get_main_stage_ids(psdf)\n",
    "main_stage_ids = stage.get_main_and_perm_stage_ids(psdf)\n",
    "stage_ids_all = np.concatenate((main_stage_ids,[\n",
    "    \"wk_melee_5\",\n",
    "    \"wk_kc_5\",\n",
    "    \"wk_fly_5\"\n",
    "]))"
   ]
  },
  {
   "cell_type": "code",
   "execution_count": 6,
   "id": "edf22c3a",
   "metadata": {},
   "outputs": [],
   "source": [
    "craft_matrix, subprod_matrix = craft.get_craft_matrix(craft_dict, material_ids, item_names_rev)"
   ]
  },
  {
   "cell_type": "code",
   "execution_count": 7,
   "id": "4b4c5578",
   "metadata": {},
   "outputs": [],
   "source": [
    "drop_packet_all, coeff_matrix_all = stage.get_drop_matrix(psdf, stage_ids_all, material_ids,\n",
    "                                                          stage_lmd_dict, stage_san_dict)"
   ]
  },
  {
   "cell_type": "code",
   "execution_count": 8,
   "id": "a226fa13",
   "metadata": {},
   "outputs": [],
   "source": [
    "#drop_matrix, stage_san, stage_ids = stage.filter_drop_matrix(drop_matrix_all, stage_san_all, stage_ids_all)\n",
    "drop_packet_all.filter_stages()"
   ]
  },
  {
   "cell_type": "code",
   "execution_count": 9,
   "id": "8b3a041a",
   "metadata": {},
   "outputs": [],
   "source": [
    "cutoff_threshold = 0.01\n",
    "drop_packet_all.drop_matrix_cutoff(cutoff_threshold)"
   ]
  },
  {
   "cell_type": "code",
   "execution_count": 10,
   "id": "8bf7807c",
   "metadata": {},
   "outputs": [],
   "source": [
    "byprod_rate = 0.18\n",
    "craft_constraint_matrix = ak.get_craft_constraint_matrix(craft_matrix,\n",
    "                                                         subprod_matrix, byprod_rate)"
   ]
  },
  {
   "cell_type": "code",
   "execution_count": 11,
   "id": "444ea929",
   "metadata": {},
   "outputs": [
    {
     "name": "stdout",
     "output_type": "stream",
     "text": [
      "True\n",
      "LMD: 0.0040\n",
      "Pure Gold: 9.4299\n",
      "Skill Summary - 1: 1.5655\n",
      "Skill Summary - 2: 3.9801\n",
      "Skill Summary - 3: 10.1190\n",
      "Drill Battle Record: 0.7718\n",
      "Frontline Battle Record: 1.5437\n",
      "Tactical Battle Record: 3.8591\n",
      "Strategic Battle Record: 7.7183\n",
      "Orirock: 0.8590\n",
      "Orirock Cube: 2.6489\n",
      "Orirock Cluster: 13.0470\n",
      "Orirock Concentration: 48.7958\n",
      "Damaged Device: 3.0735\n",
      "Device: 9.2926\n",
      "Integrated Device: 36.9731\n",
      "Optimized Device: 89.7829\n",
      "Ester: 1.7985\n",
      "Polyester: 5.4675\n",
      "Polyester Pack: 21.6723\n",
      "Polyester Lump: 90.1521\n",
      "Sugar Substitute: 1.8899\n",
      "Sugar: 5.7418\n",
      "Sugar Pack: 22.7697\n",
      "Sugar Lump: 96.0446\n",
      "Oriron Shard: 2.2113\n",
      "Oriron: 6.7060\n",
      "Oriron Cluster: 26.6266\n",
      "Oriron Block: 108.5062\n",
      "Diketon: 2.2699\n",
      "Polyketon: 6.8817\n",
      "Aketon: 27.3294\n",
      "Keton Colloid: 101.3072\n",
      "Loxic Kohl: 22.8702\n",
      "White Horse Kohl: 79.5104\n",
      "Manganese Ore: 27.2708\n",
      "Manganese Trihydrate: 95.6920\n",
      "Grindstone: 30.1081\n",
      "Grindstone Pentahydrate: 90.3154\n",
      "RMA70-12: 37.2627\n",
      "RMA70-24: 87.2939\n",
      "Polymerization Preparation: 244.7021\n",
      "Bipolar Nanoflake: 234.8966\n",
      "D32 Steel: 259.3942\n",
      "Coagulating Gel: 29.1267\n",
      "Polymerized Gel: 78.1974\n",
      "Incandescent Alloy: 25.8364\n",
      "Incandescent Alloy Block: 89.5253\n",
      "Crystalline Component: 21.7107\n",
      "Crystalline Circuit: 94.9922\n",
      "Crystalline Electronic Unit: 327.0052\n",
      "Semi-Synthetic Solvent: 29.0028\n",
      "Refined Solvent: 81.2670\n",
      "Compound Cutting Fluid: 26.5297\n",
      "Cutting Fluid Solution: 82.1108\n"
     ]
    }
   ],
   "source": [
    "coeff = np.sum(drop_packet_all.drop_matrix, axis=0)\n",
    "#coeff = coeff_matrix_all\n",
    "res = linprog(-coeff,\n",
    "              A_ub=drop_packet_all.drop_matrix, b_ub=drop_packet_all.san_cost,\n",
    "              A_eq=craft_constraint_matrix, b_eq=np.zeros(len(craft_constraint_matrix)),\n",
    "              bounds=(0, None)\n",
    "             )\n",
    "\n",
    "print(res.success)\n",
    "## Make dict from itemId -> msv at the end\n",
    "msv = res.x\n",
    "msv_dict = {}\n",
    "for i, d in enumerate(drop_packet_all.item_ids):\n",
    "    msv_dict[d] = msv[i]\n",
    "    print(\"{}: {:.4f}\".format(item_names[d], msv[i]))"
   ]
  },
  {
   "cell_type": "code",
   "execution_count": 12,
   "id": "93bdefc1",
   "metadata": {},
   "outputs": [
    {
     "name": "stdout",
     "output_type": "stream",
     "text": [
      "LMD: 300\n",
      "RMA70-12: 1\n",
      "Crystalline Component: 1\n",
      "Compound Cutting Fluid: 1\n"
     ]
    }
   ],
   "source": [
    "craft.print_craft_materials(\"Cutting Fluid Solution\", craft_matrix, material_ids, item_names, item_names_rev)"
   ]
  },
  {
   "cell_type": "code",
   "execution_count": 13,
   "id": "8de0579b",
   "metadata": {},
   "outputs": [
    {
     "name": "stdout",
     "output_type": "stream",
     "text": [
      "LMD: 252\n",
      "Crystalline Component: 52.79%\n",
      "Orirock Cube: 36.70%\n",
      "Orirock: 21.41%\n",
      "Device: 13.95%\n",
      "Pure Gold: 10.17%\n",
      "Damaged Device: 7.96%\n",
      "Orirock Cluster: 3.26%\n",
      "Crystalline Circuit: 2.70%\n",
      "Loxic Kohl: 2.66%\n",
      "Coagulating Gel: 2.08%\n",
      "Integrated Device: 1.81%\n"
     ]
    }
   ],
   "source": [
    "_ = stage.print_stage_drops(stage_names_rev[\"R8-11\"], drop_packet_all, item_names)"
   ]
  },
  {
   "cell_type": "code",
   "execution_count": 14,
   "id": "2959e85e",
   "metadata": {},
   "outputs": [
    {
     "name": "stdout",
     "output_type": "stream",
     "text": [
      "[[108.   0.   0. ...   0.   0.   0.]\n",
      " [108.   0.   0. ...   0.   0.   0.]\n",
      " [108.   0.   0. ...   0.   0.   0.]\n",
      " ...\n",
      " [216.   0.   0. ...   0.   0.   0.]\n",
      " [216.   0.   0. ...   0.   0.   0.]\n",
      " [216.   0.   0. ...   0.   0.   0.]]\n",
      "          stage_id item_id efficiency     stage_name           item_name\n",
      "0       act16d5_01   30021   0.566231           WR-1    Sugar Substitute\n",
      "1   act16d5_01_rep   30021   0.597321   WR-1 (rerun)    Sugar Substitute\n",
      "2       act16d5_02   30031   0.520209           WR-2               Ester\n",
      "3   act16d5_02_rep   30031   0.544904   WR-2 (rerun)               Ester\n",
      "4       act16d5_03   30041   0.481156           WR-3        Oriron Shard\n",
      "5   act16d5_03_rep   30041   0.505438   WR-3 (rerun)        Oriron Shard\n",
      "6       act16d5_04   30032   0.745414           WR-4           Polyester\n",
      "7   act16d5_04_rep   30032   0.752139   WR-4 (rerun)           Polyester\n",
      "8       act16d5_05   30052   0.847881           WR-5           Polyketon\n",
      "9   act16d5_05_rep   30052   0.775045   WR-5 (rerun)           Polyketon\n",
      "10      act16d5_06   30012   0.586802           WR-6        Orirock Cube\n",
      "11  act16d5_06_rep   30012   0.584073   WR-6 (rerun)        Orirock Cube\n",
      "12      act16d5_07   30042   0.823072           WR-7              Oriron\n",
      "13  act16d5_07_rep   30042   0.815685   WR-7 (rerun)              Oriron\n",
      "14      act16d5_08   31023   1.073955           WR-8  Incandescent Alloy\n",
      "15  act16d5_08_rep   31023    1.05744   WR-8 (rerun)  Incandescent Alloy\n",
      "16      act16d5_09   30033   1.043199           WR-9      Polyester Pack\n",
      "17  act16d5_09_rep   30033   1.045155   WR-9 (rerun)      Polyester Pack\n",
      "18      act16d5_10   30013   0.723111          WR-10     Orirock Cluster\n",
      "19  act16d5_10_rep   30013   0.726842  WR-10 (rerun)     Orirock Cluster\n"
     ]
    }
   ],
   "source": [
    "event_stage_ids = stage.get_event_ids(\"WR\", psdf, event_names_rev, remove_permanent=True)\n",
    "event_drop_packet, _ = stage.get_drop_matrix(psdf, event_stage_ids, material_ids,\n",
    "                                         stage_lmd_dict, stage_san_dict)\n",
    "print(event_drop_packet.drop_matrix)\n",
    "stack_ = stage.print_stage_efficiency(event_drop_packet, msv, stage_names, item_names)\n",
    "#for a, b, c in stack:\n",
    "#    print(\"{}:\\t\\t{:.4}\\t{}\".format(stage_names[a], float(b), item_names[c]))\n",
    "print(stack_)"
   ]
  },
  {
   "cell_type": "code",
   "execution_count": 16,
   "id": "12d2e87a",
   "metadata": {},
   "outputs": [
    {
     "name": "stdout",
     "output_type": "stream",
     "text": [
      "10-17: 57.4899%\n",
      "SN-1 (permanent): 27.2727%\n",
      "9-6: 27.1794%\n",
      "10-15: 1.8682%\n",
      "10-14: 1.2518%\n",
      "7-14: 1.2308%\n",
      "4-8: 1.1294%\n",
      "4-5: 1.1245%\n",
      "9-2: 1.1129%\n",
      "9-11: 1.0638%\n",
      "6-4: 1.0582%\n",
      "9-12: 1.0204%\n",
      "9-19: 1.0126%\n"
     ]
    }
   ],
   "source": [
    "stages_ = stage.get_stages_which_drop(\"Compound Cutting Fluid\", drop_packet_all.drop_matrix,\n",
    "                                      material_ids, stage_ids_all, item_names_rev)\n",
    "for s, d in stages_:\n",
    "        print(\"{}: {:.4f}%\".format(stage_names[s], 100*d))\n"
   ]
  },
  {
   "cell_type": "code",
   "execution_count": 24,
   "id": "1f68e136",
   "metadata": {},
   "outputs": [],
   "source": [
    "def get_required_sanity(drop_packet: DropPacket, item_id: str, stage_id: str, n_items: int) -> float:\n",
    "    espd = drop_packet.get_espd(item_id, stage_id)\n",
    "    total_sanity = espd * n_items\n",
    "    return total_sanity\n",
    "    "
   ]
  },
  {
   "cell_type": "code",
   "execution_count": 29,
   "id": "8732f45f",
   "metadata": {},
   "outputs": [
    {
     "name": "stdout",
     "output_type": "stream",
     "text": [
      "Remaining sanity: 1509.1409166321027\n"
     ]
    }
   ],
   "source": [
    "san = get_required_sanity(event_drop_packet, item_names_rev[\"Incandescent Alloy\"],\n",
    "                          stage_names_rev[\"WR-8 (rerun)\"], 141)\n",
    "daily_san = 240 + 60\n",
    "days_left = 7\n",
    "remaining_sanity = san - days_left*daily_san\n",
    "print(\"Remaining sanity: {}\".format(remaining_sanity))"
   ]
  },
  {
   "cell_type": "code",
   "execution_count": null,
   "id": "f525bff0",
   "metadata": {},
   "outputs": [],
   "source": []
  }
 ],
 "metadata": {
  "kernelspec": {
   "display_name": "Python 3 (ipykernel)",
   "language": "python",
   "name": "python3"
  },
  "language_info": {
   "codemirror_mode": {
    "name": "ipython",
    "version": 3
   },
   "file_extension": ".py",
   "mimetype": "text/x-python",
   "name": "python",
   "nbconvert_exporter": "python",
   "pygments_lexer": "ipython3",
   "version": "3.10.5"
  },
  "vscode": {
   "interpreter": {
    "hash": "370af53f32f8c2c8294a0a6c6bcb742e41bf8636d19d5d4d9d243022576e0853"
   }
  }
 },
 "nbformat": 4,
 "nbformat_minor": 5
}
