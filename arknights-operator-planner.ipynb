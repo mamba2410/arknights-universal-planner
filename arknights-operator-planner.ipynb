{
 "cells": [
  {
   "cell_type": "code",
   "execution_count": 1,
   "id": "e31f7cab",
   "metadata": {},
   "outputs": [],
   "source": [
    "import common as ak\n",
    "from operator_plan import OperatorPlan\n",
    "from cost_packet import CostPacket\n",
    "import materials, char, craft, stage\n",
    "\n",
    "import numpy as np\n",
    "import numpy.typing as npt\n",
    "\n",
    "%load_ext autoreload\n",
    "%autoreload 2"
   ]
  },
  {
   "cell_type": "code",
   "execution_count": 2,
   "id": "18e9e034",
   "metadata": {},
   "outputs": [
    {
     "name": "stdout",
     "output_type": "stream",
     "text": [
      "Reading from local file\n",
      "Reading from local file\n",
      "Reading from local file\n",
      "Reading from local file\n"
     ]
    }
   ],
   "source": [
    "item_dict = ak.get_item_dict(lang=\"en_US\", local=True)\n",
    "#char_dict = ak.get_char_dict(lang=\"en_US\")\n",
    "char_dict = ak.get_char_dict(lang=\"zh_CN\", local=True)\n",
    "module_dict = ak.get_module_dict(lang=\"zh_CN\", local=True)\n",
    "level_dict = ak.get_level_dict(lang=\"zh_CN\", local=True)"
   ]
  },
  {
   "cell_type": "code",
   "execution_count": 3,
   "id": "4a7e584c",
   "metadata": {},
   "outputs": [],
   "source": [
    "n_items = len(item_dict.keys())\n",
    "n_chars = len(char_dict.keys())\n",
    "item_names, item_names_rev = ak.get_item_info(item_dict)\n",
    "#char_names, char_names_rev = ak.get_char_info(char_dict)\n",
    "char_names, char_names_rev = char.get_char_translations(char_dict)"
   ]
  },
  {
   "cell_type": "code",
   "execution_count": 4,
   "id": "48a2c900",
   "metadata": {
    "scrolled": true
   },
   "outputs": [],
   "source": [
    "packet_all, _ = char.get_all_char_all_costs(char_dict, module_dict, level_dict, n_chars)"
   ]
  },
  {
   "cell_type": "code",
   "execution_count": 5,
   "id": "82f7d289",
   "metadata": {},
   "outputs": [
    {
     "name": "stdout",
     "output_type": "stream",
     "text": [
      "Kroos:\n",
      "\tE0 -> E1\n",
      "Cost:\n",
      "\tLMD: 82283\n",
      "\tEXP: 92782\n"
     ]
    }
   ],
   "source": [
    "plan_nearl = OperatorPlan(\n",
    "    name = \"Kroos\",\n",
    "    level_range = (1, 50),\n",
    "    elite_range = (0, 1),\n",
    "    skill_range = (1, 1),\n",
    "    mastery_range = [\n",
    "        (0, 0),\n",
    "        (0, 0),\n",
    "        (0, 0)\n",
    "    ],\n",
    "    module_range = [\n",
    "        (0, 0),\n",
    "        (0, 0)\n",
    "    ]\n",
    ")\n",
    "\n",
    "mats_combined = plan_nearl.get_cost(char_names_rev, packet_all)\n",
    "plan_nearl.pretty_print(item_names, mats_combined)"
   ]
  },
  {
   "cell_type": "markdown",
   "id": "8c2b7fba",
   "metadata": {},
   "source": [
    "# Testing - Loading Gamepress from JSON"
   ]
  },
  {
   "cell_type": "code",
   "execution_count": 6,
   "id": "b7fffaf6",
   "metadata": {},
   "outputs": [],
   "source": [
    "import json\n",
    "with open(\"gamepress.json\") as f:\n",
    "    gpdata = json.load(f)[\"operators\"]"
   ]
  },
  {
   "cell_type": "code",
   "execution_count": 7,
   "id": "47112fe5",
   "metadata": {},
   "outputs": [],
   "source": [
    "n_gp_operators = len(gpdata)\n",
    "gp_plans = np.empty(n_gp_operators, dtype=OperatorPlan)"
   ]
  },
  {
   "cell_type": "code",
   "execution_count": 8,
   "id": "bc72ba22",
   "metadata": {
    "scrolled": true
   },
   "outputs": [],
   "source": [
    "for i, op in enumerate(gpdata):\n",
    "    try:\n",
    "        ## gamepress id doesnt match in-game id data\n",
    "        name = char_names_rev[op[\"operator\"]]\n",
    "    except:\n",
    "        name = op[\"operator\"]\n",
    "    #print(name)\n",
    "    gp_plans[i] = OperatorPlan(\n",
    "            name = name,\n",
    "            elite_range = (op[\"start_promotion\"], op[\"end_promotion\"]),\n",
    "            skill_range = (op[\"start_skill\"], op[\"end_skill\"]),\n",
    "            mastery_range = np.transpose((op[\"start_specs\"], op[\"end_specs\"]))\n",
    "        )"
   ]
  },
  {
   "cell_type": "markdown",
   "id": "12214e16",
   "metadata": {},
   "source": [
    "# Test - Serialising OperatorPlan objects"
   ]
  },
  {
   "cell_type": "code",
   "execution_count": 9,
   "id": "a48da700",
   "metadata": {},
   "outputs": [
    {
     "name": "stdout",
     "output_type": "stream",
     "text": [
      "<operator_plan.OperatorPlan object at 0x7fc7c65693c0>\n"
     ]
    }
   ],
   "source": [
    "obj_str = plan_nearl.to_json()\n",
    "\n",
    "new_dict = json.loads(obj_str)\n",
    "new_plan = OperatorPlan(**new_dict)\n",
    "\n",
    "print(new_plan)"
   ]
  },
  {
   "cell_type": "markdown",
   "id": "854a5d05",
   "metadata": {},
   "source": [
    "# Test - User interface"
   ]
  },
  {
   "cell_type": "code",
   "execution_count": 10,
   "id": "3159f9f1",
   "metadata": {},
   "outputs": [],
   "source": [
    "preset_e1 = OperatorPlan(elite_range=(0,1))\n",
    "preset_e1_SL7 = OperatorPlan(elite_range=(0,1), skill_range=(1,7))\n",
    "preset_e1_L60_SL7 = OperatorPlan(level_range=(1,60), elite_range=(0,1), skill_range=(1,7))\n",
    "preset_e1_L70_SL7 = OperatorPlan(level_range=(1,70), elite_range=(0,1), skill_range=(1,7))\n",
    "preset_e2 = OperatorPlan(elite_range=(0,2))\n",
    "preset_e2_L20_SL7 = OperatorPlan(level_range=(1,20), elite_range=(0,2), skill_range=(1,7))\n",
    "preset_e2_L50_SL7 = OperatorPlan(level_range=(1,50), elite_range=(0,2), skill_range=(1,7))\n",
    "preset_e2_SL7 = OperatorPlan(elite_range=(0,2), skill_range=(1,7))\n",
    "preset_e2_S1M3 = OperatorPlan(elite_range=(0,2), skill_range=(1,7), mastery_range=[(0,3),(0,0),(0,0)])\n",
    "preset_e2_S2M3 = OperatorPlan(elite_range=(0,2), skill_range=(1,7), mastery_range=[(0,0),(0,3),(0,0)])\n",
    "preset_e2_S3M3 = OperatorPlan(elite_range=(0,2), skill_range=(1,7), mastery_range=[(0,0),(0,0),(0,3)])\n",
    "preset_S1M3 = OperatorPlan(mastery_range=[(0,3),(0,0),(0,0)])\n",
    "preset_S2M3 = OperatorPlan(mastery_range=[(0,0),(0,3),(0,0)])\n",
    "preset_S3M3 = OperatorPlan(mastery_range=[(0,0),(0,0),(0,3)])\n",
    "preset_S2M3_S3M3 = OperatorPlan(mastery_range=[(0,0),(0,3),(0,3)])\n",
    "preset_M6 = OperatorPlan(mastery_range=[(0,3),(0,3),(0,0)])\n",
    "preset_M9 = OperatorPlan(mastery_range=[(0,3),(0,3),(0,3)])\n",
    "preset_M1L1 = OperatorPlan(module_range=[(0,1)])\n",
    "preset_M1L3 = OperatorPlan(module_range=[(0,3)])"
   ]
  },
  {
   "cell_type": "code",
   "execution_count": 11,
   "id": "f8b0e9d0",
   "metadata": {},
   "outputs": [
    {
     "name": "stdout",
     "output_type": "stream",
     "text": [
      "Suzuran:\n",
      "\tE0 -> E2\n",
      "Cost:\n",
      "\tPolyester: 8\n",
      "\tOriron: 4\n",
      "\tGrindstone Pentahydrate: 8\n",
      "\tD32 Steel: 4\n",
      "\tSupporter Chip: 5\n",
      "\tSupporter Dualchip: 4\n",
      "\tLMD: 589841\n",
      "\tEXP: 361400\n"
     ]
    }
   ],
   "source": [
    "suzuran = preset_e2.as_operator(\"Suzuran\")\n",
    "suzuran_total = suzuran.get_cost(char_names_rev, packet_all)\n",
    "suzuran.pretty_print(item_names, suzuran_total)"
   ]
  },
  {
   "cell_type": "code",
   "execution_count": 13,
   "id": "d00021ea",
   "metadata": {
    "scrolled": true
   },
   "outputs": [
    {
     "name": "stdout",
     "output_type": "stream",
     "text": [
      "Suzuran:\n",
      "\tE0 -> E2\n",
      "Cost:\n",
      "\tOrirock: 30\n",
      "\tOrirock Cube: 63\n",
      "\tOrirock Cluster: 85\n",
      "\tOrirock Concentration: 91\n",
      "\tSugar Substitute: 24\n",
      "\tSugar: 55\n",
      "\tSugar Lump: 4\n",
      "\tEster: 10\n",
      "\tPolyester: 66\n",
      "\tPolyester Pack: 21\n",
      "\tPolyester Lump: 12\n",
      "\tOriron Shard: 32\n",
      "\tOriron: 53\n",
      "\tOriron Cluster: 25\n",
      "\tOriron Block: 63\n",
      "\tDiketon: 21\n",
      "\tPolyketon: 51\n",
      "\tAketon: 96\n",
      "\tKeton Colloid: 92\n",
      "\tDamaged Device: 18\n",
      "\tDevice: 52\n",
      "\tIntegrated Device: 26\n",
      "\tOptimized Device: 40\n",
      "\tLoxic Kohl: 47\n",
      "\tWhite Horse Kohl: 93\n",
      "\tManganese Ore: 30\n",
      "\tManganese Trihydrate: 72\n",
      "\tGrindstone: 32\n",
      "\tGrindstone Pentahydrate: 84\n",
      "\tRMA70-12: 21\n",
      "\tRMA70-24: 79\n",
      "\tPolymerization Preparation: 80\n",
      "\tBipolar Nanoflake: 82\n",
      "\tD32 Steel: 58\n",
      "\tCrystalline Electronic Unit: 43\n",
      "\tCoagulating Gel: 36\n",
      "\tPolymerized Gel: 87\n",
      "\tIncandescent Alloy: 33\n",
      "\tIncandescent Alloy Block: 86\n",
      "\tCrystalline Component: 4\n",
      "\tCrystalline Circuit: 22\n",
      "\tSemi-Synthetic Solvent: 28\n",
      "\tRefined Solvent: 4\n",
      "\tCompound Cutting Fluid: 25\n",
      "\tCutting Fluid Solution: 8\n",
      "\tVanguard Chip: 4\n",
      "\tVanguard Dualchip: 3\n",
      "\tGuard Chip: 10\n",
      "\tGuard Chip Pack: 5\n",
      "\tGuard Dualchip: 8\n",
      "\tDefender Chip: 5\n",
      "\tDefender Dualchip: 10\n",
      "\tSniper Chip: 16\n",
      "\tSniper Dualchip: 7\n",
      "\tCaster Chip: 9\n",
      "\tCaster Dualchip: 11\n",
      "\tMedic Chip: 9\n",
      "\tMedic Dualchip: 4\n",
      "\tSupporter Chip: 8\n",
      "\tSupporter Dualchip: 7\n",
      "\tSpecialist Chip: 19\n",
      "\tSpecialist Dualchip: 18\n",
      "\tSkill Summary - 1: 156\n",
      "\tSkill Summary - 2: 366\n",
      "\tSkill Summary - 3: 1282\n",
      "\tLMD: 9214979\n",
      "\tEXP: 5857351\n"
     ]
    }
   ],
   "source": [
    "ops = [\n",
    "    OperatorPlan(\"Mostima\", level_range=(80, 20), elite_range=(1,2)),\n",
    "    OperatorPlan(\"Liskarm\", level_range=(70, 20), elite_range=(1,2)),\n",
    "    OperatorPlan(\"April\", level_range=(70, 20), elite_range=(1,2)),\n",
    "    OperatorPlan(\"Utage\", level_range=(60, 20), elite_range=(1,2)),\n",
    "    OperatorPlan(\"FEater\", level_range=(70, 20), elite_range=(1,2)),\n",
    "    OperatorPlan(\"Shamare\", level_range=(70, 20), elite_range=(1,2)),\n",
    "    OperatorPlan(\"Elysium\", level_range=(70, 20), elite_range=(1,2)),\n",
    "    OperatorPlan(\"Aurora\", level_range=(70, 20), elite_range=(1,2)),\n",
    "    OperatorPlan(\"Lava the Purgatory\", level_range=(70, 20), elite_range=(1,2)),\n",
    "    preset_e2_L50_SL7.as_operator(\"Ling\"),\n",
    "    preset_e2_L20_SL7.as_operator(\"Lee\"),\n",
    "    preset_e1_L70_SL7.as_operator(\"Kroos the Keen Glint\"),\n",
    "    preset_e1_L70_SL7.as_operator(\"Blacknight\"),\n",
    "    preset_e1_L60_SL7.as_operator(\"Pinecone\"),\n",
    "    preset_e2_L50_SL7.as_operator(\"Thorns\"),\n",
    "    preset_e1_L70_SL7.as_operator(\"Honeyberry\"),\n",
    "    preset_e1_L60_SL7.as_operator(\"Roberta\"),\n",
    "    preset_e2_L20_SL7.as_operator(\"Goldenglow\"),\n",
    "    preset_e2_L20_SL7.as_operator(\"Fiammetta\"),\n",
    "    preset_e2_L20_SL7.as_operator(\"Kazemaru\"),\n",
    "    preset_e2_L20_SL7.as_operator(\"Horn\"),\n",
    "    preset_e1_L70_SL7.as_operator(\"Rockrock\"),\n",
    "    preset_e2_L20_SL7.as_operator(\"Irene\"),\n",
    "    preset_e2_L20_SL7.as_operator(\"Specter the Unchained\"),\n",
    "    preset_e2_L20_SL7.as_operator(\"Lumen\"),\n",
    "    preset_e1_L70_SL7.as_operator(\"Erato\"),\n",
    "    preset_e2_L20_SL7.as_operator(\"Dorothy\"),\n",
    "\n",
    "    preset_S2M3_S3M3.as_operator(\"Ling\"),\n",
    "    preset_S2M3.as_operator(\"Mountain\"),\n",
    "    preset_S3M3.as_operator(\"Thorns\"),\n",
    "    OperatorPlan(\"Mudrock\", mastery_range=[(0,0),(1,3),(0,3)]),\n",
    "    preset_S3M3.as_operator(\"W\"),\n",
    "    preset_S2M3.as_operator(\"FEater\"),\n",
    "    preset_M6.as_operator(\"Elysium\"),\n",
    "    preset_S2M3_S3M3.as_operator(\"Bagpipe\"),\n",
    "    OperatorPlan(\"Nearl the Radiant Knight\", mastery_range=[(0,0),(0,0),(2,3)]),\n",
    "    OperatorPlan(\"Archetto\", mastery_range=[(2,3),(1,3),(0,3)]),\n",
    "    preset_S1M3.as_operator(\"Saga\"),\n",
    "    preset_S3M3.as_operator(\"Skadi the Corrupting Heart\"),\n",
    "    preset_S2M3.as_operator(\"Exusiai\"),\n",
    "    OperatorPlan(\"Eunectes\", mastery_range=[(0,0),(0,0),(2,3)]),\n",
    "    preset_S2M3.as_operator(\"Kal'tsit\"),\n",
    "    OperatorPlan(\"Saria\", mastery_range=[(0,0),(1,3),(0,3)]),\n",
    "    preset_S2M3.as_operator(\"Skadi\"),\n",
    "    preset_S2M3.as_operator(\"Ifrit\"),\n",
    "    preset_S2M3_S3M3.as_operator(\"Goldenglow\"),\n",
    "    OperatorPlan(\"Dusk\", mastery_range=[(1,3),(0,3),(0,3)]),\n",
    "    OperatorPlan(\"Eyjafjalla\", mastery_range=[(0,0),(1,3),(0,0)]),\n",
    "    preset_S3M3.as_operator(\"Aak\"),\n",
    "    OperatorPlan(\"Weedy\", mastery_range=[(1,3)]),\n",
    "    preset_S2M3.as_operator(\"Specter\"),\n",
    "    preset_S2M3_S3M3.as_operator(\"Fiammetta\"),\n",
    "    preset_S3M3.as_operator(\"Suzuran\"),\n",
    "    preset_S2M3.as_operator(\"Phantom\"),\n",
    "]\n",
    "total_cost = char.sum_operator_cost(ops, char_names_rev, packet_all)\n",
    "suzuran.pretty_print(item_names, total_cost)"
   ]
  },
  {
   "cell_type": "code",
   "execution_count": 14,
   "id": "4842a1ea",
   "metadata": {},
   "outputs": [
    {
     "name": "stdout",
     "output_type": "stream",
     "text": [
      "Reading from local file\n"
     ]
    }
   ],
   "source": [
    "craft_dict = ak.get_craft_dict(local=True)\n",
    "#material_ids = ak.get_material_ids(item_names_rev, ak.MATERIAL_NAMES)\n",
    "material_ids = ak.get_material_ids(item_names_rev, np.concatenate((materials.MATERIAL_NAMES, materials.CHIP_NAMES)))\n",
    "n_mats = len(material_ids)\n",
    "craft_matrix, subprod_matrix = craft.get_craft_matrix(craft_dict, material_ids, item_names_rev)"
   ]
  },
  {
   "cell_type": "code",
   "execution_count": 15,
   "id": "bdbdd5ad",
   "metadata": {
    "scrolled": false
   },
   "outputs": [
    {
     "name": "stdout",
     "output_type": "stream",
     "text": [
      "Excluding 5001\n"
     ]
    }
   ],
   "source": [
    "mats_required = np.zeros(n_mats, dtype=\"int32\")\n",
    "for item_id, count in total_cost:\n",
    "    try:\n",
    "        idx = np.where(material_ids == item_id)[0][0]\n",
    "        mats_required[idx] = count\n",
    "        #print(item_id)\n",
    "    except:\n",
    "        print(\"Excluding {}\".format(item_id))\n",
    "    "
   ]
  },
  {
   "cell_type": "code",
   "execution_count": 16,
   "id": "b074e2a9",
   "metadata": {},
   "outputs": [],
   "source": [
    "breakdown_matrix = craft.get_breakdown_matrix(craft_matrix, material_ids, item_names_rev)"
   ]
  },
  {
   "cell_type": "code",
   "execution_count": 17,
   "id": "f94a597b",
   "metadata": {
    "scrolled": true
   },
   "outputs": [],
   "source": [
    "current_inv = ak.csv_to_materials(\"mats.csv\", material_ids, item_names)\n",
    "#for a, b in np.stack([material_ids, current_inv[\"count\"]]).T:\n",
    "#    print(\"{}: {}\".format(item_names[a], b))"
   ]
  },
  {
   "cell_type": "code",
   "execution_count": 18,
   "id": "d6e37179",
   "metadata": {
    "scrolled": true
   },
   "outputs": [
    {
     "name": "stdout",
     "output_type": "stream",
     "text": [
      "LMD: 9980679\n",
      "Orirock Cube: 4832\n",
      "Integrated Device: 510\n",
      "Polyester Pack: 132\n",
      "Sugar Pack: 365\n",
      "Oriron Cluster: 164\n",
      "Aketon: 184\n",
      "Loxic Kohl: 91\n",
      "Manganese Ore: 212\n",
      "Grindstone: 13\n",
      "RMA70-12: 180\n",
      "Coagulating Gel: 12\n",
      "Incandescent Alloy: 319\n",
      "Crystalline Component: 120\n",
      "Defender Chip Pack: 3\n",
      "Sniper Chip: 3\n",
      "Sniper Chip Pack: 5\n",
      "Medic Chip: 8\n",
      "Supporter Chip: 3\n",
      "Supporter Chip Pack: 3\n",
      "Specialist Chip: 10\n"
     ]
    }
   ],
   "source": [
    "mats_remaining = mats_required - current_inv[\"count\"]\n",
    "#mats_remaining = mats_required\n",
    "breakdown = np.matmul(breakdown_matrix, np.matmul(breakdown_matrix, mats_remaining))\n",
    "breakdown = np.matmul(breakdown_matrix, breakdown)\n",
    "for k, v in np.stack([material_ids, breakdown]).T:\n",
    "    v = v.astype(dtype=\"float\")\n",
    "    if v > 0:\n",
    "        print(\"{}: {}\".format(item_names[k], int(v)))"
   ]
  },
  {
   "cell_type": "code",
   "execution_count": null,
   "id": "9c37b85c",
   "metadata": {},
   "outputs": [],
   "source": []
  }
 ],
 "metadata": {
  "kernelspec": {
   "display_name": "Python 3 (ipykernel)",
   "language": "python",
   "name": "python3"
  },
  "language_info": {
   "codemirror_mode": {
    "name": "ipython",
    "version": 3
   },
   "file_extension": ".py",
   "mimetype": "text/x-python",
   "name": "python",
   "nbconvert_exporter": "python",
   "pygments_lexer": "ipython3",
   "version": "3.10.5"
  },
  "vscode": {
   "interpreter": {
    "hash": "40ddf92afb38d1cb5512e391e48ae06ac2e82edb40a3575438d6235ab4bdb6ff"
   }
  }
 },
 "nbformat": 4,
 "nbformat_minor": 5
}
