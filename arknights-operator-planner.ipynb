{
 "cells": [
  {
   "cell_type": "code",
   "execution_count": 1,
   "id": "1e95bc86",
   "metadata": {},
   "outputs": [],
   "source": [
    "import numpy as np\n",
    "import requests"
   ]
  },
  {
   "cell_type": "code",
   "execution_count": 2,
   "id": "a040c5d6",
   "metadata": {},
   "outputs": [],
   "source": [
    "## en_US names\n",
    "response = requests.get('https://raw.githubusercontent.com/Kengxxiao/ArknightsGameData/master/en_US/gamedata/excel/item_table.json')\n",
    "itemdict = response.json()\n",
    "\n",
    "ITEM_NAME_DICT = {} # itemId -> itemName\n",
    "\n",
    "for itemId, info in itemdict['items'].items():\n",
    "    itemName = info['name']\n",
    "    #ITEM_NAME_DICT[itemName] = itemId\n",
    "    ITEM_NAME_DICT[itemId] = itemName"
   ]
  },
  {
   "cell_type": "code",
   "execution_count": 3,
   "id": "01d936a2",
   "metadata": {},
   "outputs": [],
   "source": [
    "## Caveman brain function, but it works\n",
    "def sum_skill_slice(array):\n",
    "    total_ids = []\n",
    "    total_counts = []\n",
    "\n",
    "    for ids, counts in array:\n",
    "        for i in range(len(ids)):\n",
    "            total_ids.append(ids[i])\n",
    "            total_counts.append(counts[i])\n",
    "\n",
    "    unique_ids = np.unique(total_ids)\n",
    "    unique_counts = np.zeros(len(unique_ids))\n",
    "\n",
    "    for i in range(len(total_ids)):\n",
    "        idx = np.where(unique_ids == total_ids[i])[0]\n",
    "        unique_counts[idx] += total_counts[i]\n",
    "    \n",
    "    unique_ids = np.trim_zeros(unique_ids)\n",
    "    unique_counts = np.trim_zeros(unique_counts)\n",
    "    return np.array([unique_ids, unique_counts], dtype=\"uint32\").transpose()\n"
   ]
  },
  {
   "cell_type": "markdown",
   "id": "1dfe7894",
   "metadata": {},
   "source": [
    "## Source files ver"
   ]
  },
  {
   "cell_type": "code",
   "execution_count": 6,
   "id": "18e9e034",
   "metadata": {},
   "outputs": [],
   "source": [
    "response = requests.get(\"https://raw.githubusercontent.com/Kengxxiao/ArknightsGameData/master/zh_CN/gamedata/excel/character_table.json\")\n",
    "chartab = response.json()\n",
    "\n",
    "response = requests.get(\"https://raw.githubusercontent.com/Kengxxiao/ArknightsGameData/master/en_US/gamedata/excel/character_table.json\")\n",
    "chartab_en = response.json()\n",
    "\n",
    "response = requests.get('https://raw.githubusercontent.com/Kengxxiao/ArknightsGameData/master/zh_CN/gamedata/excel/building_data.json')\n",
    "craftdict = response.json()\n",
    "\n",
    "## en_US names\n",
    "response = requests.get('https://raw.githubusercontent.com/Kengxxiao/ArknightsGameData/master/en_US/gamedata/excel/item_table.json')\n",
    "itemdict = response.json()\n",
    "\n",
    "ITEM_NAME_DICT = {} # itemName -> itemId\n",
    "REVERSE_ITEM_NAME_DICT = {} # itemId -> itemName\n",
    "\n",
    "for itemId, info in itemdict['items'].items():\n",
    "    itemName = info['name']\n",
    "    ITEM_NAME_DICT[itemName] = itemId\n",
    "    REVERSE_ITEM_NAME_DICT[itemId] = itemName\n",
    "\n",
    "n_items = len(ITEM_NAME_DICT.keys())"
   ]
  },
  {
   "cell_type": "code",
   "execution_count": null,
   "id": "d12ff909",
   "metadata": {},
   "outputs": [],
   "source": [
    "op_name_dict = {}\n",
    "op_name_dict_en = {}\n",
    "op_name_dict_en_rev = {}\n",
    "\n",
    "n_operators = len(chartab)\n",
    "\n",
    "op_ids = np.empty(n_operators, dtype=\"U32\")\n",
    "\n",
    "elite_costs = np.zeros((n_operators,2), dtype=[\n",
    "    (\"item_id\", \"uint32\", 3),\n",
    "    (\"count\", \"uint32\", 3),\n",
    "])\n",
    "\n",
    "skill_costs = np.zeros((n_operators, 6), dtype=[\n",
    "    (\"item_id\", \"uint32\", 3),\n",
    "    (\"count\", \"uint32\", 3),\n",
    "])\n",
    "\n",
    "mastery_costs = np.zeros((n_operators, 3, 3), dtype=[\n",
    "    (\"item_id\", \"uint32\", 3),\n",
    "    (\"count\", \"uint32\", 3),\n",
    "])\n",
    "\n",
    "#print(elite_costs)\n",
    "\n",
    "for char_id, v in chartab_en.items():\n",
    "    op_name_dict_en[char_id] = v[\"name\"]\n",
    "    op_name_dict_en_rev[v[\"name\"]] = char_id\n",
    "\n",
    "for char_idx, (char_id, v) in enumerate(chartab.items()):\n",
    "    \n",
    "    ## Name (CN)\n",
    "    op_name_dict[char_id] = v[\"name\"]\n",
    "    op_ids[char_idx] = char_id \n",
    "    \n",
    "    ## Promotion costs\n",
    "    for p_idx, p in enumerate(v[\"phases\"]):\n",
    "        cost_arr = p[\"evolveCost\"]\n",
    "        if p[\"evolveCost\"] is not None:\n",
    "            for c_idx, c in enumerate(cost_arr):\n",
    "                elite_costs[char_idx][p_idx-1][\"item_id\"][c_idx] = c[\"id\"]\n",
    "                elite_costs[char_idx][p_idx-1][\"count\"][c_idx] = c[\"count\"]\n",
    "            \n",
    "            \n",
    "    ## General skills\n",
    "    for s_idx, s in enumerate(v[\"allSkillLvlup\"]):\n",
    "        if s[\"lvlUpCost\"] is not None:\n",
    "            for c_idx, c in enumerate(s[\"lvlUpCost\"]):\n",
    "                skill_costs[char_idx][s_idx][\"item_id\"][c_idx] = c[\"id\"]\n",
    "                skill_costs[char_idx][s_idx][\"count\"][c_idx] = c[\"count\"]\n",
    "        \n",
    "   ## Skill masteries\n",
    "    for s_idx, s in enumerate(v[\"skills\"]):\n",
    "        for m_idx, m in enumerate(s[\"levelUpCostCond\"]):\n",
    "            if m[\"levelUpCost\"] is not None:\n",
    "                for c_idx, c in enumerate(m[\"levelUpCost\"]):\n",
    "                    mastery_costs[char_idx][s_idx][m_idx][\"item_id\"][c_idx] = c[\"id\"]\n",
    "                    mastery_costs[char_idx][s_idx][m_idx][\"count\"][c_idx] = c[\"count\"]\n",
    "         "
   ]
  },
  {
   "cell_type": "raw",
   "id": "16446956",
   "metadata": {},
   "source": [
    "           \n",
    "craft_matrix = np.zeros((n_items, n_items))\n",
    "subprod_matrix = np.zeros((n_items, n_items))\n",
    "lmd_cost = np.zeros(n_items)\n",
    "\n",
    "recipes = [v for v in craftdict[\"workshopFormulas\"].values()]\n",
    "\n",
    "## Assume only one recipe per item\n",
    "for r in recipes:\n",
    "    item_idx = np.where(item_ids == r[\"itemId\"])[0]\n",
    "\n",
    "    if len(item_idx) <= 0:\n",
    "        continue\n",
    "        \n",
    "    lmd_cost[item_idx] = r[\"goldCost\"]\n",
    "    \n",
    "    for c in r[\"costs\"]:\n",
    "        c_idx = np.where(item_ids == c[\"id\"])[0]\n",
    "        if len(c_idx) <= 0:\n",
    "            continue\n",
    "        #print(np.shape(craft_matrix[item_idx]))\n",
    "        #print(item_idx)\n",
    "        craft_matrix[item_idx,c_idx] = float(c[\"count\"])\n",
    "    \n",
    "    total_w = 0\n",
    "    for s in r[\"extraOutcomeGroup\"]:\n",
    "        total_w += float(s[\"weight\"])\n",
    "        s_idx = np.where(item_ids == s[\"itemId\"])[0]\n",
    "        subprod_matrix[item_idx,s_idx] = float(s[\"weight\"])\n",
    "        \n",
    "    subprod_matrix[item_idx] /= total_w"
   ]
  },
  {
   "cell_type": "code",
   "execution_count": 8,
   "id": "48a2c900",
   "metadata": {
    "scrolled": true
   },
   "outputs": [],
   "source": [
    "def get_op_stuff(name: str):\n",
    "    char_id = op_name_dict_en_rev[name]\n",
    "    char_idx = np.where(op_ids == char_id)[0][0]\n",
    "    \n",
    "    e_cost = elite_costs[char_idx]\n",
    "    s_cost = skill_costs[char_idx]\n",
    "    m_cost = mastery_costs[char_idx]\n",
    "    \n",
    "    return e_cost, s_cost, m_cost"
   ]
  },
  {
   "cell_type": "code",
   "execution_count": null,
   "id": "6ae63ec9",
   "metadata": {},
   "outputs": [],
   "source": [
    "e_cost, s_cost, m_cost = get_op_stuff(\"Angelina\")\n",
    "\n",
    "#print(e_cost)\n",
    "#print(s_cost)\n",
    "print(m_cost)"
   ]
  },
  {
   "cell_type": "code",
   "execution_count": null,
   "id": "66bc9b08",
   "metadata": {},
   "outputs": [],
   "source": [
    "ret = sum_skill_slice(m_cost[0])\n",
    "print(ret)\n",
    "print(ITEM_NAME_DICT[str(ret[6][0])])"
   ]
  },
  {
   "cell_type": "code",
   "execution_count": null,
   "id": "710b65af",
   "metadata": {},
   "outputs": [],
   "source": [
    "op_name = \"Nearl\"\n",
    "elite_range = (0, 2)\n",
    "skill_range = (1, 7)\n",
    "mastery_range = [\n",
    "    (0, 0),\n",
    "    (0, 0),\n",
    "    (0, 3)\n",
    "]\n",
    "\n",
    "mats_combined = np.zeros(2+6+9, dtype=[\n",
    "    (\"item_id\", \"uint32\", 3),\n",
    "    (\"count\", \"uint32\", 3),\n",
    "])\n",
    "\n",
    "\n",
    "e_cost, s_cost, m_cost = get_op_stuff(op_name)\n",
    "\n",
    "j = 0\n",
    "for v in e_cost[elite_range[0] : elite_range[1]]:\n",
    "    mats_combined[j] = v\n",
    "    j += 1\n",
    "    \n",
    "for v in s_cost[skill_range[0]-1 : skill_range[1]-1]:\n",
    "    mats_combined[j] = v\n",
    "    j += 1\n",
    "\n",
    "for i in range(len(mastery_range)):\n",
    "    for v in m_cost[i][mastery_range[i][0] : mastery_range[i][1]]:\n",
    "        mats_combined[j] = v\n",
    "        j += 1\n",
    "\n",
    "mats_combined = sum_skill_slice(mats_combined)\n",
    "print(mats_combined)"
   ]
  },
  {
   "cell_type": "code",
   "execution_count": null,
   "id": "82f7d289",
   "metadata": {},
   "outputs": [],
   "source": [
    "for i, c in mats_combined:\n",
    "    print(\"{}: {}\".format(REVERSE_ITEM_NAME_DICT[str(i)], c))"
   ]
  },
  {
   "cell_type": "code",
   "execution_count": null,
   "id": "bbb0fd42",
   "metadata": {},
   "outputs": [],
   "source": [
    "print(\"MATERIAL_IDS = [\")\n",
    "for k in ITEM_NAME_DICT.keys():\n",
    "    print(\"\\t\\\"{}\\\",\".format(k))\n",
    "print(\"]\")"
   ]
  },
  {
   "cell_type": "code",
   "execution_count": null,
   "id": "3521b6ea",
   "metadata": {},
   "outputs": [],
   "source": [
    "print(ITEM_NAME_DICT[\"LMD\"])"
   ]
  },
  {
   "cell_type": "code",
   "execution_count": null,
   "id": "f0347851",
   "metadata": {},
   "outputs": [],
   "source": []
  }
 ],
 "metadata": {
  "kernelspec": {
   "display_name": "Python 3 (ipykernel)",
   "language": "python",
   "name": "python3"
  },
  "language_info": {
   "codemirror_mode": {
    "name": "ipython",
    "version": 3
   },
   "file_extension": ".py",
   "mimetype": "text/x-python",
   "name": "python",
   "nbconvert_exporter": "python",
   "pygments_lexer": "ipython3",
   "version": "3.10.5"
  }
 },
 "nbformat": 4,
 "nbformat_minor": 5
}
