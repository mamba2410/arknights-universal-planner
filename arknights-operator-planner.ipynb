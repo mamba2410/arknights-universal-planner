{
 "cells": [
  {
   "cell_type": "code",
   "execution_count": 1,
   "id": "e31f7cab",
   "metadata": {},
   "outputs": [],
   "source": [
    "import common as ak\n",
    "from operator_plan import OperatorPlan\n",
    "from cost_packet import CostPacket\n",
    "import numpy as np\n",
    "import numpy.typing as npt\n",
    "\n",
    "%load_ext autoreload\n",
    "%autoreload 2"
   ]
  },
  {
   "cell_type": "code",
   "execution_count": 2,
   "id": "18e9e034",
   "metadata": {},
   "outputs": [],
   "source": [
    "item_dict = ak.get_item_dict(lang=\"en_US\")\n",
    "#char_dict = ak.get_char_dict(lang=\"en_US\")\n",
    "char_dict = ak.get_char_dict(lang=\"zh_CN\")\n",
    "module_dict = ak.get_module_dict(lang=\"zh_CN\")"
   ]
  },
  {
   "cell_type": "code",
   "execution_count": 3,
   "id": "4a7e584c",
   "metadata": {},
   "outputs": [],
   "source": [
    "n_items = len(item_dict.keys())\n",
    "n_chars = len(char_dict.keys())\n",
    "item_names, item_names_rev = ak.get_item_info(item_dict)\n",
    "#char_names, char_names_rev = ak.get_char_info(char_dict)\n",
    "char_names, char_names_rev = ak.get_char_translations(char_dict)"
   ]
  },
  {
   "cell_type": "code",
   "execution_count": 4,
   "id": "48a2c900",
   "metadata": {
    "scrolled": true
   },
   "outputs": [],
   "source": [
    "packet_all, _ = ak.get_all_char_all_costs(char_dict, module_dict, n_chars)\n"
   ]
  },
  {
   "cell_type": "raw",
   "id": "b44bad38",
   "metadata": {},
   "source": [
    "## Testing\n",
    "e_cost, s_cost, m_cost, _d_cost = ak.get_char_all_costs(\"Angelina\", char_names_rev, char_ids,\n",
    "                                      elite_costs, skill_costs, mastery_costs, module_costs)\n",
    "\n",
    "ret = ak.sum_skill_slice(m_cost[0])\n",
    "print(ret)\n",
    "print(item_names[str(ret[6][0])])"
   ]
  },
  {
   "cell_type": "code",
   "execution_count": 13,
   "id": "82f7d289",
   "metadata": {},
   "outputs": [
    {
     "name": "stdout",
     "output_type": "stream",
     "text": [
      "Passenger:\n",
      "\tE0 -> E2\n",
      "\tSL1 -> SL7\n",
      "\tS1M0 -> S1M0\n",
      "\tS2M0 -> S2M0\n",
      "\tS3M0 -> S3M3\n",
      "\tM1L0 -> M1L0\n",
      "\tM2L0 -> M2L3\n",
      "Cost:\n",
      "\tOrirock Cube: 10\n",
      "\tOrirock Cluster: 8\n",
      "\tOrirock Concentration: 10\n",
      "\tEster: 6\n",
      "\tOriron Shard: 4\n",
      "\tOriron: 12\n",
      "\tOriron Cluster: 4\n",
      "\tOriron Block: 5\n",
      "\tPolyketon: 4\n",
      "\tPolymerization Preparation: 3\n",
      "\tBipolar Nanoflake: 8\n",
      "\tCrystalline Electronic Unit: 8\n",
      "\tCoagulating Gel: 7\n",
      "\tPolymerized Gel: 4\n",
      "\tIncandescent Alloy Block: 4\n",
      "\tCrystalline Circuit: 4\n",
      "\tCaster Chip: 5\n",
      "\tCaster Dualchip: 4\n",
      "\tSkill Summary - 1: 10\n",
      "\tSkill Summary - 2: 24\n",
      "\tSkill Summary - 3: 43\n",
      "\tLMD: 300000\n",
      "\tModule Data Block: 12\n",
      "\tmod_update_token_1: 60\n",
      "\tmod_update_token_2: 20\n"
     ]
    }
   ],
   "source": [
    "plan_nearl = OperatorPlan(\n",
    "    name = \"Passenger\",\n",
    "    elite_range = (0, 2),\n",
    "    skill_range = (1, 7),\n",
    "    mastery_range = [\n",
    "        (0, 0),\n",
    "        (0, 0),\n",
    "        (0, 3)\n",
    "    ],\n",
    "    module_range = [\n",
    "        (0, 0),\n",
    "        (0, 3)\n",
    "    ]\n",
    ")\n",
    "\n",
    "mats_combined = plan_nearl.get_cost(char_names_rev, packet_all)\n",
    "\n",
    "plan_nearl.pretty_print(item_names, mats_combined)"
   ]
  },
  {
   "cell_type": "markdown",
   "id": "8c2b7fba",
   "metadata": {},
   "source": [
    "# Testing - Loading Gamepress from JSON"
   ]
  },
  {
   "cell_type": "code",
   "execution_count": null,
   "id": "b7fffaf6",
   "metadata": {},
   "outputs": [],
   "source": [
    "import json\n",
    "with open(\"gamepress.json\") as f:\n",
    "    gpdata = json.load(f)[\"operators\"]"
   ]
  },
  {
   "cell_type": "code",
   "execution_count": null,
   "id": "47112fe5",
   "metadata": {},
   "outputs": [],
   "source": [
    "n_gp_operators = len(gpdata)\n",
    "gp_plans = np.empty(n_gp_operators, dtype=OperatorPlan)"
   ]
  },
  {
   "cell_type": "code",
   "execution_count": null,
   "id": "bc72ba22",
   "metadata": {
    "scrolled": true
   },
   "outputs": [],
   "source": [
    "for i, op in enumerate(gpdata):\n",
    "    try:\n",
    "        ## gamepress id doesnt match in-game id data\n",
    "        name = char_names_rev[op[\"operator\"]]\n",
    "    except:\n",
    "        name = op[\"operator\"]\n",
    "    print(name)\n",
    "    gp_plans[i] = OperatorPlan(\n",
    "            name = name,\n",
    "            elite_range = (op[\"start_promotion\"], op[\"end_promotion\"]),\n",
    "            skill_range = (op[\"start_skill\"], op[\"end_skill\"]),\n",
    "            mastery_range = np.transpose((op[\"start_specs\"], op[\"end_specs\"]))\n",
    "        )"
   ]
  },
  {
   "cell_type": "markdown",
   "id": "60607b88",
   "metadata": {},
   "source": [
    "# Test - Serialising OperatorPlan objects"
   ]
  },
  {
   "cell_type": "code",
   "execution_count": null,
   "id": "d2abb3ff",
   "metadata": {},
   "outputs": [],
   "source": [
    "obj_str = plan_nearl.to_json()\n",
    "\n",
    "new_dict = json.loads(obj_str)\n",
    "new_plan = OperatorPlan(**new_dict)\n",
    "\n",
    "print(new_plan)"
   ]
  },
  {
   "cell_type": "markdown",
   "id": "497f9d84",
   "metadata": {},
   "source": [
    "# Test - User interface"
   ]
  },
  {
   "cell_type": "code",
   "execution_count": 15,
   "id": "1f549f35",
   "metadata": {},
   "outputs": [],
   "source": [
    "preset_e2 = OperatorPlan(elite_range=(0,2))\n",
    "preset_e2_SL7 = OperatorPlan(elite_range=(0,2), skill_range=(0,7))\n",
    "preset_e2_S1M3 = OperatorPlan(elite_range=(0,2), skill_range=(0,7), mastery_range=[(0,3),(0,0),(0,0)])\n",
    "preset_e2_S2M3 = OperatorPlan(elite_range=(0,2), skill_range=(0,7), mastery_range=[(0,0),(0,3),(0,0)])\n",
    "preset_e2_S3M3 = OperatorPlan(elite_range=(0,2), skill_range=(0,7), mastery_range=[(0,0),(0,0),(0,3)])\n",
    "preset_S1M3 = OperatorPlan(mastery_range=[(0,3),(0,0),(0,0)])\n",
    "preset_S1M3 = OperatorPlan(mastery_range=[(0,0),(0,3),(0,0)])\n",
    "preset_S1M3 = OperatorPlan(mastery_range=[(0,0),(0,0),(0,3)])\n",
    "preset_S2M3_S3M3 = OperatorPlan(mastery_range=[(0,0),(0,3),(0,3)])\n",
    "preset_M9 = OperatorPlan(mastery_range=[(0,3),(0,3),(0,3)])"
   ]
  },
  {
   "cell_type": "code",
   "execution_count": 16,
   "id": "39fcc29d",
   "metadata": {},
   "outputs": [
    {
     "name": "stdout",
     "output_type": "stream",
     "text": [
      "Suzuran:\n",
      "\tE0 -> E2\n",
      "\tSL0 -> SL7\n",
      "\tS1M0 -> S1M0\n",
      "\tS2M0 -> S2M0\n",
      "\tS3M0 -> S3M0\n",
      "\tM1L0 -> M1L0\n",
      "Cost:\n",
      "\tPolyester: 8\n",
      "\tOriron: 4\n",
      "\tOriron Cluster: 3\n",
      "\tGrindstone: 5\n",
      "\tGrindstone Pentahydrate: 8\n",
      "\tD32 Steel: 4\n",
      "\tSupporter Chip: 5\n",
      "\tSupporter Dualchip: 4\n",
      "\tSkill Summary - 3: 8\n"
     ]
    }
   ],
   "source": [
    "suzuran = preset_e2_SL7.as_operator(\"Suzuran\")\n",
    "suzuran_total = suzuran.get_cost(char_names_rev, packet_all)\n",
    "suzuran.pretty_print(item_names, suzuran_total)"
   ]
  },
  {
   "cell_type": "code",
   "execution_count": null,
   "id": "408716d2",
   "metadata": {},
   "outputs": [],
   "source": []
  }
 ],
 "metadata": {
  "kernelspec": {
   "display_name": "Python 3 (ipykernel)",
   "language": "python",
   "name": "python3"
  },
  "language_info": {
   "codemirror_mode": {
    "name": "ipython",
    "version": 3
   },
   "file_extension": ".py",
   "mimetype": "text/x-python",
   "name": "python",
   "nbconvert_exporter": "python",
   "pygments_lexer": "ipython3",
   "version": "3.10.5"
  }
 },
 "nbformat": 4,
 "nbformat_minor": 5
}
