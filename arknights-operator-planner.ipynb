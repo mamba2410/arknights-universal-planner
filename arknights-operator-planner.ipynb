{
 "cells": [
  {
   "cell_type": "code",
   "execution_count": 1,
   "id": "e31f7cab",
   "metadata": {},
   "outputs": [],
   "source": [
    "import common as ak\n",
    "from operator_plan import OperatorPlan\n",
    "from cost_packet import CostPacket\n",
    "import numpy as np\n",
    "import numpy.typing as npt\n",
    "\n",
    "%load_ext autoreload\n",
    "%autoreload 2"
   ]
  },
  {
   "cell_type": "code",
   "execution_count": 2,
   "id": "18e9e034",
   "metadata": {},
   "outputs": [],
   "source": [
    "item_dict = ak.get_item_dict(lang=\"en_US\")\n",
    "#char_dict = ak.get_char_dict(lang=\"en_US\")\n",
    "char_dict = ak.get_char_dict(lang=\"zh_CN\")\n",
    "module_dict = ak.get_module_dict(lang=\"zh_CN\")"
   ]
  },
  {
   "cell_type": "code",
   "execution_count": 3,
   "id": "4a7e584c",
   "metadata": {},
   "outputs": [],
   "source": [
    "n_items = len(item_dict.keys())\n",
    "n_chars = len(char_dict.keys())\n",
    "item_names, item_names_rev = ak.get_item_info(item_dict)\n",
    "#char_names, char_names_rev = ak.get_char_info(char_dict)\n",
    "char_names, char_names_rev = ak.get_char_translations(char_dict)"
   ]
  },
  {
   "cell_type": "code",
   "execution_count": 4,
   "id": "48a2c900",
   "metadata": {
    "scrolled": true
   },
   "outputs": [],
   "source": [
    "packet_all, _ = ak.get_all_char_all_costs(char_dict, module_dict, n_chars)\n"
   ]
  },
  {
   "cell_type": "raw",
   "id": "9cf0d182",
   "metadata": {},
   "source": [
    "## Testing\n",
    "e_cost, s_cost, m_cost, _d_cost = ak.get_char_all_costs(\"Angelina\", char_names_rev, char_ids,\n",
    "                                      elite_costs, skill_costs, mastery_costs, module_costs)\n",
    "\n",
    "ret = ak.sum_skill_slice(m_cost[0])\n",
    "print(ret)\n",
    "print(item_names[str(ret[6][0])])"
   ]
  },
  {
   "cell_type": "code",
   "execution_count": 5,
   "id": "82f7d289",
   "metadata": {},
   "outputs": [
    {
     "name": "stdout",
     "output_type": "stream",
     "text": [
      "Passenger:\n",
      "\tE0 -> E2\n",
      "\tSL1 -> SL7\n",
      "\tS3M0 -> S3M3\n",
      "\tM2L0 -> M2L3\n",
      "Cost:\n",
      "\tOrirock Cube: 10\n",
      "\tOrirock Cluster: 8\n",
      "\tOrirock Concentration: 10\n",
      "\tEster: 6\n",
      "\tOriron Shard: 4\n",
      "\tOriron: 12\n",
      "\tOriron Cluster: 4\n",
      "\tOriron Block: 5\n",
      "\tPolyketon: 4\n",
      "\tPolymerization Preparation: 3\n",
      "\tBipolar Nanoflake: 8\n",
      "\tCrystalline Electronic Unit: 8\n",
      "\tCoagulating Gel: 7\n",
      "\tPolymerized Gel: 4\n",
      "\tIncandescent Alloy Block: 4\n",
      "\tCrystalline Circuit: 4\n",
      "\tCaster Chip: 5\n",
      "\tCaster Dualchip: 4\n",
      "\tSkill Summary - 1: 10\n",
      "\tSkill Summary - 2: 24\n",
      "\tSkill Summary - 3: 43\n",
      "\tLMD: 300000\n",
      "\tModule Data Block: 12\n",
      "\tmod_update_token_1: 60\n",
      "\tmod_update_token_2: 20\n"
     ]
    }
   ],
   "source": [
    "plan_nearl = OperatorPlan(\n",
    "    name = \"Passenger\",\n",
    "    elite_range = (0, 2),\n",
    "    skill_range = (1, 7),\n",
    "    mastery_range = [\n",
    "        (0, 0),\n",
    "        (0, 0),\n",
    "        (0, 3)\n",
    "    ],\n",
    "    module_range = [\n",
    "        (0, 0),\n",
    "        (0, 3)\n",
    "    ]\n",
    ")\n",
    "\n",
    "mats_combined = plan_nearl.get_cost(char_names_rev, packet_all)\n",
    "\n",
    "plan_nearl.pretty_print(item_names, mats_combined)"
   ]
  },
  {
   "cell_type": "markdown",
   "id": "8c2b7fba",
   "metadata": {},
   "source": [
    "# Testing - Loading Gamepress from JSON"
   ]
  },
  {
   "cell_type": "code",
   "execution_count": 6,
   "id": "b7fffaf6",
   "metadata": {},
   "outputs": [],
   "source": [
    "import json\n",
    "with open(\"gamepress.json\") as f:\n",
    "    gpdata = json.load(f)[\"operators\"]"
   ]
  },
  {
   "cell_type": "code",
   "execution_count": 7,
   "id": "47112fe5",
   "metadata": {},
   "outputs": [],
   "source": [
    "n_gp_operators = len(gpdata)\n",
    "gp_plans = np.empty(n_gp_operators, dtype=OperatorPlan)"
   ]
  },
  {
   "cell_type": "code",
   "execution_count": 8,
   "id": "bc72ba22",
   "metadata": {
    "scrolled": true
   },
   "outputs": [
    {
     "name": "stdout",
     "output_type": "stream",
     "text": [
      "9241\n",
      "19141\n",
      "13296\n",
      "1241\n",
      "21761\n",
      "13281\n",
      "1291\n",
      "14701\n",
      "16026\n",
      "37136\n",
      "37146\n",
      "37176\n",
      "35311\n",
      "39001\n",
      "25811\n",
      "7211\n",
      "23291\n",
      "26601\n",
      "30201\n",
      "1296\n",
      "19641\n",
      "30156\n",
      "1336\n",
      "1376\n",
      "16031\n",
      "1306\n",
      "24826\n",
      "40436\n",
      "40446\n",
      "41791\n",
      "26616\n",
      "1311\n",
      "11966\n",
      "16036\n",
      "1186\n",
      "26536\n",
      "42456\n",
      "18066\n",
      "43586\n",
      "44496\n",
      "44491\n",
      "44501\n",
      "14706\n",
      "46546\n",
      "42461\n",
      "40451\n",
      "43581\n"
     ]
    }
   ],
   "source": [
    "for i, op in enumerate(gpdata):\n",
    "    try:\n",
    "        ## gamepress id doesnt match in-game id data\n",
    "        name = char_names_rev[op[\"operator\"]]\n",
    "    except:\n",
    "        name = op[\"operator\"]\n",
    "    print(name)\n",
    "    gp_plans[i] = OperatorPlan(\n",
    "            name = name,\n",
    "            elite_range = (op[\"start_promotion\"], op[\"end_promotion\"]),\n",
    "            skill_range = (op[\"start_skill\"], op[\"end_skill\"]),\n",
    "            mastery_range = np.transpose((op[\"start_specs\"], op[\"end_specs\"]))\n",
    "        )"
   ]
  },
  {
   "cell_type": "markdown",
   "id": "1b9dc9b4",
   "metadata": {},
   "source": [
    "# Test - Serialising OperatorPlan objects"
   ]
  },
  {
   "cell_type": "code",
   "execution_count": 9,
   "id": "d8b58bfa",
   "metadata": {},
   "outputs": [
    {
     "name": "stdout",
     "output_type": "stream",
     "text": [
      "<operator_plan.OperatorPlan object at 0x7f0386ac7160>\n"
     ]
    }
   ],
   "source": [
    "obj_str = plan_nearl.to_json()\n",
    "\n",
    "new_dict = json.loads(obj_str)\n",
    "new_plan = OperatorPlan(**new_dict)\n",
    "\n",
    "print(new_plan)"
   ]
  },
  {
   "cell_type": "markdown",
   "id": "68e6892d",
   "metadata": {},
   "source": [
    "# Test - User interface"
   ]
  },
  {
   "cell_type": "code",
   "execution_count": 20,
   "id": "58767b30",
   "metadata": {},
   "outputs": [],
   "source": [
    "preset_e1 = OperatorPlan(elite_range=(0,1))\n",
    "preset_e1_SL7 = OperatorPlan(elite_range=(0,1), skill_range=(1,7))\n",
    "preset_e2 = OperatorPlan(elite_range=(0,2))\n",
    "preset_e2_SL7 = OperatorPlan(elite_range=(0,2), skill_range=(1,7))\n",
    "preset_e2_S1M3 = OperatorPlan(elite_range=(0,2), skill_range=(1,7), mastery_range=[(0,3),(0,0),(0,0)])\n",
    "preset_e2_S2M3 = OperatorPlan(elite_range=(0,2), skill_range=(1,7), mastery_range=[(0,0),(0,3),(0,0)])\n",
    "preset_e2_S3M3 = OperatorPlan(elite_range=(0,2), skill_range=(1,7), mastery_range=[(0,0),(0,0),(0,3)])\n",
    "preset_S1M3 = OperatorPlan(mastery_range=[(0,3),(0,0),(0,0)])\n",
    "preset_S1M3 = OperatorPlan(mastery_range=[(0,0),(0,3),(0,0)])\n",
    "preset_S1M3 = OperatorPlan(mastery_range=[(0,0),(0,0),(0,3)])\n",
    "preset_S2M3_S3M3 = OperatorPlan(mastery_range=[(0,0),(0,3),(0,3)])\n",
    "preset_M9 = OperatorPlan(mastery_range=[(0,3),(0,3),(0,3)])"
   ]
  },
  {
   "cell_type": "code",
   "execution_count": 21,
   "id": "ef881609",
   "metadata": {},
   "outputs": [
    {
     "name": "stdout",
     "output_type": "stream",
     "text": [
      "Passenger:\n",
      "\tE0 -> E2\n",
      "\tSL1 -> SL7\n",
      "Cost:\n",
      "\tOrirock Cube: 10\n",
      "\tOrirock Cluster: 8\n",
      "\tEster: 6\n",
      "\tOriron Shard: 4\n",
      "\tOriron: 12\n",
      "\tOriron Cluster: 4\n",
      "\tOriron Block: 5\n",
      "\tPolyketon: 4\n",
      "\tBipolar Nanoflake: 4\n",
      "\tCoagulating Gel: 4\n",
      "\tCaster Chip: 5\n",
      "\tCaster Dualchip: 4\n",
      "\tSkill Summary - 1: 10\n",
      "\tSkill Summary - 2: 24\n",
      "\tSkill Summary - 3: 8\n"
     ]
    }
   ],
   "source": [
    "suzuran = preset_e2_SL7.as_operator(\"Passenger\")\n",
    "suzuran_total = suzuran.get_cost(char_names_rev, packet_all)\n",
    "suzuran.pretty_print(item_names, suzuran_total)"
   ]
  },
  {
   "cell_type": "code",
   "execution_count": null,
   "id": "040f882c",
   "metadata": {},
   "outputs": [],
   "source": []
  }
 ],
 "metadata": {
  "kernelspec": {
   "display_name": "Python 3 (ipykernel)",
   "language": "python",
   "name": "python3"
  },
  "language_info": {
   "codemirror_mode": {
    "name": "ipython",
    "version": 3
   },
   "file_extension": ".py",
   "mimetype": "text/x-python",
   "name": "python",
   "nbconvert_exporter": "python",
   "pygments_lexer": "ipython3",
   "version": "3.10.5"
  }
 },
 "nbformat": 4,
 "nbformat_minor": 5
}
