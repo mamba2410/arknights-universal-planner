{
 "cells": [
  {
   "cell_type": "code",
   "execution_count": 1,
   "id": "e31f7cab",
   "metadata": {},
   "outputs": [],
   "source": [
    "import common as ak\n",
    "from operator_plan import OperatorPlan\n",
    "import numpy as np\n",
    "import numpy.typing as npt\n",
    "\n",
    "%load_ext autoreload\n",
    "%autoreload 2"
   ]
  },
  {
   "cell_type": "code",
   "execution_count": 19,
   "id": "18e9e034",
   "metadata": {},
   "outputs": [],
   "source": [
    "item_dict = ak.get_item_dict(lang=\"en_US\")\n",
    "#char_dict = ak.get_char_dict(lang=\"en_US\")\n",
    "char_dict = ak.get_char_dict(lang=\"zh_CN\")"
   ]
  },
  {
   "cell_type": "code",
   "execution_count": 21,
   "id": "4a7e584c",
   "metadata": {},
   "outputs": [],
   "source": [
    "n_items = len(item_dict.keys())\n",
    "n_chars = len(char_dict.keys())\n",
    "item_names, item_names_rev = ak.get_item_info(item_dict)\n",
    "#char_names, char_names_rev = ak.get_char_info(char_dict)\n",
    "char_names, char_names_rev = ak.get_char_translations(char_dict)"
   ]
  },
  {
   "cell_type": "code",
   "execution_count": 22,
   "id": "48a2c900",
   "metadata": {
    "scrolled": true
   },
   "outputs": [],
   "source": [
    "char_ids, elite_costs, skill_costs, mastery_costs, module_costs = ak.get_all_char_all_costs(char_dict, n_chars)\n"
   ]
  },
  {
   "cell_type": "code",
   "execution_count": 23,
   "id": "66bc9b08",
   "metadata": {},
   "outputs": [
    {
     "name": "stdout",
     "output_type": "stream",
     "text": [
      "[[ 3303    33]\n",
      " [30024     5]\n",
      " [30043     4]\n",
      " [30064     3]\n",
      " [30074     9]\n",
      " [30094     4]\n",
      " [30125     6]]\n",
      "Bipolar Nanoflake\n"
     ]
    }
   ],
   "source": [
    "## Testing\n",
    "e_cost, s_cost, m_cost, _d_cost = ak.get_char_all_costs(\"Angelina\", char_names_rev, char_ids,\n",
    "                                      elite_costs, skill_costs, mastery_costs, module_costs)\n",
    "\n",
    "ret = ak.sum_skill_slice(m_cost[0])\n",
    "print(ret)\n",
    "print(item_names[str(ret[6][0])])"
   ]
  },
  {
   "cell_type": "code",
   "execution_count": 31,
   "id": "82f7d289",
   "metadata": {},
   "outputs": [
    {
     "name": "stdout",
     "output_type": "stream",
     "text": [
      "Guard Chip: 5\n",
      "Guard Dualchip: 4\n",
      "Skill Summary - 1: 10\n",
      "Skill Summary - 2: 24\n",
      "Skill Summary - 3: 43\n",
      "Orirock: 6\n",
      "Orirock Concentration: 14\n",
      "Sugar: 5\n",
      "Polyester: 4\n",
      "Oriron: 4\n",
      "Oriron Cluster: 4\n",
      "Polyketon: 4\n",
      "Damaged Device: 4\n",
      "Device: 5\n",
      "Optimized Device: 3\n",
      "Grindstone: 5\n",
      "RMA70-12: 3\n",
      "Polymerization Preparation: 4\n",
      "Crystalline Electronic Unit: 6\n",
      "Polymerized Gel: 12\n",
      "Incandescent Alloy: 5\n"
     ]
    }
   ],
   "source": [
    "plan_nearl = OperatorPlan(\n",
    "    name = \"Nearl the Radiant Knight\",\n",
    "    elite_range = (0, 2),\n",
    "    skill_range = (1, 7),\n",
    "    mastery_range = [\n",
    "        (0, 0),\n",
    "        (0, 0),\n",
    "        (0, 3)\n",
    "    ]\n",
    ")\n",
    "\n",
    "e_cost, s_cost, m_cost, _d_cost = ak.get_char_all_costs(plan_nearl.name, char_names_rev, char_ids,\n",
    "                                      elite_costs, skill_costs, mastery_costs, module_costs)\n",
    "\n",
    "mats_combined = plan_nearl.get_total_cost(e_cost, s_cost, m_cost, _d_cost)\n",
    "\n",
    "for i, c in mats_combined:\n",
    "    print(\"{}: {}\".format(item_names[str(i)], c))"
   ]
  },
  {
   "cell_type": "markdown",
   "id": "8c2b7fba",
   "metadata": {},
   "source": [
    "# Testing - Loading Gamepress from JSON"
   ]
  },
  {
   "cell_type": "code",
   "execution_count": 7,
   "id": "b7fffaf6",
   "metadata": {},
   "outputs": [],
   "source": [
    "import json\n",
    "with open(\"gamepress.json\") as f:\n",
    "    gpdata = json.load(f)[\"operators\"]"
   ]
  },
  {
   "cell_type": "code",
   "execution_count": 8,
   "id": "47112fe5",
   "metadata": {},
   "outputs": [],
   "source": [
    "n_gp_operators = len(gpdata)\n",
    "gp_plans = np.empty(n_gp_operators, dtype=OperatorPlan)"
   ]
  },
  {
   "cell_type": "code",
   "execution_count": 9,
   "id": "bc72ba22",
   "metadata": {
    "scrolled": true
   },
   "outputs": [
    {
     "name": "stdout",
     "output_type": "stream",
     "text": [
      "9241\n",
      "19141\n",
      "13296\n",
      "1241\n",
      "21761\n",
      "13281\n",
      "1291\n",
      "14701\n",
      "16026\n",
      "37136\n",
      "37146\n",
      "37176\n",
      "35311\n",
      "39001\n",
      "25811\n",
      "7211\n",
      "23291\n",
      "26601\n",
      "30201\n",
      "1296\n",
      "19641\n",
      "30156\n",
      "1336\n",
      "1376\n",
      "16031\n",
      "1306\n",
      "24826\n",
      "40436\n",
      "40446\n",
      "41791\n",
      "26616\n",
      "1311\n",
      "11966\n",
      "16036\n",
      "1186\n",
      "26536\n",
      "42456\n",
      "18066\n",
      "43586\n",
      "44496\n",
      "44491\n",
      "44501\n",
      "14706\n",
      "46546\n",
      "42461\n",
      "40451\n",
      "43581\n"
     ]
    }
   ],
   "source": [
    "for i, op in enumerate(gpdata):\n",
    "    try:\n",
    "        ## gamepress id doesnt match in-game id data\n",
    "        name = char_names_rev[op[\"operator\"]]\n",
    "    except:\n",
    "        name = op[\"operator\"]\n",
    "    print(name)\n",
    "    gp_plans[i] = OperatorPlan(\n",
    "            name = name,\n",
    "            elite_range = (op[\"start_promotion\"], op[\"end_promotion\"]),\n",
    "            skill_range = (op[\"start_skill\"], op[\"end_skill\"]),\n",
    "            mastery_range = np.transpose((op[\"start_specs\"], op[\"end_specs\"]))\n",
    "        )"
   ]
  },
  {
   "cell_type": "markdown",
   "id": "53cbe537",
   "metadata": {},
   "source": [
    "# Test - Serialising OperatorPlan objects"
   ]
  },
  {
   "cell_type": "code",
   "execution_count": 33,
   "id": "11a34de2",
   "metadata": {},
   "outputs": [
    {
     "name": "stdout",
     "output_type": "stream",
     "text": [
      "<operator_plan.OperatorPlan object at 0x7faf8a53cee0>\n"
     ]
    }
   ],
   "source": [
    "obj_str = plan_nearl.to_json()\n",
    "\n",
    "new_dict = json.loads(obj_str)\n",
    "new_plan = OperatorPlan(**new_dict)\n",
    "\n",
    "print(new_plan)"
   ]
  },
  {
   "cell_type": "code",
   "execution_count": null,
   "id": "23152f90",
   "metadata": {},
   "outputs": [],
   "source": []
  }
 ],
 "metadata": {
  "kernelspec": {
   "display_name": "Python 3 (ipykernel)",
   "language": "python",
   "name": "python3"
  },
  "language_info": {
   "codemirror_mode": {
    "name": "ipython",
    "version": 3
   },
   "file_extension": ".py",
   "mimetype": "text/x-python",
   "name": "python",
   "nbconvert_exporter": "python",
   "pygments_lexer": "ipython3",
   "version": "3.10.5"
  }
 },
 "nbformat": 4,
 "nbformat_minor": 5
}
