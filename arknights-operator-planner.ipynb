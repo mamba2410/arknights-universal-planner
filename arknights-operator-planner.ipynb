{
 "cells": [
  {
   "cell_type": "code",
   "execution_count": 1,
   "id": "e31f7cab",
   "metadata": {},
   "outputs": [],
   "source": [
    "import common as ak\n",
    "from operator_plan import OperatorPlan\n",
    "from cost_packet import CostPacket\n",
    "import numpy as np\n",
    "import numpy.typing as npt\n",
    "\n",
    "%load_ext autoreload\n",
    "%autoreload 2"
   ]
  },
  {
   "cell_type": "code",
   "execution_count": 2,
   "id": "18e9e034",
   "metadata": {},
   "outputs": [],
   "source": [
    "item_dict = ak.get_item_dict(lang=\"en_US\")\n",
    "#char_dict = ak.get_char_dict(lang=\"en_US\")\n",
    "char_dict = ak.get_char_dict(lang=\"zh_CN\")\n",
    "module_dict = ak.get_module_dict(lang=\"zh_CN\")\n",
    "level_dict = ak.get_level_dict(lang=\"zh_CN\")"
   ]
  },
  {
   "cell_type": "code",
   "execution_count": 3,
   "id": "4a7e584c",
   "metadata": {},
   "outputs": [],
   "source": [
    "n_items = len(item_dict.keys())\n",
    "n_chars = len(char_dict.keys())\n",
    "item_names, item_names_rev = ak.get_item_info(item_dict)\n",
    "#char_names, char_names_rev = ak.get_char_info(char_dict)\n",
    "char_names, char_names_rev = ak.get_char_translations(char_dict)"
   ]
  },
  {
   "cell_type": "code",
   "execution_count": 4,
   "id": "48a2c900",
   "metadata": {
    "scrolled": true
   },
   "outputs": [],
   "source": [
    "packet_all, _ = ak.get_all_char_all_costs(char_dict, module_dict, level_dict, n_chars)"
   ]
  },
  {
   "cell_type": "code",
   "execution_count": 5,
   "id": "82f7d289",
   "metadata": {},
   "outputs": [
    {
     "name": "stdout",
     "output_type": "stream",
     "text": [
      "Kroos:\n",
      "\tE0 -> E1\n",
      "Cost:\n",
      "\tLMD: 82283\n",
      "\tEXP: 92782\n"
     ]
    }
   ],
   "source": [
    "plan_nearl = OperatorPlan(\n",
    "    name = \"Kroos\",\n",
    "    level_range = (1, 50),\n",
    "    elite_range = (0, 1),\n",
    "    skill_range = (1, 1),\n",
    "    mastery_range = [\n",
    "        (0, 0),\n",
    "        (0, 0),\n",
    "        (0, 0)\n",
    "    ],\n",
    "    module_range = [\n",
    "        (0, 0),\n",
    "        (0, 0)\n",
    "    ]\n",
    ")\n",
    "\n",
    "mats_combined = plan_nearl.get_cost(char_names_rev, packet_all)\n",
    "plan_nearl.pretty_print(item_names, mats_combined)"
   ]
  },
  {
   "cell_type": "markdown",
   "id": "8c2b7fba",
   "metadata": {},
   "source": [
    "# Testing - Loading Gamepress from JSON"
   ]
  },
  {
   "cell_type": "code",
   "execution_count": 6,
   "id": "b7fffaf6",
   "metadata": {},
   "outputs": [],
   "source": [
    "import json\n",
    "with open(\"gamepress.json\") as f:\n",
    "    gpdata = json.load(f)[\"operators\"]"
   ]
  },
  {
   "cell_type": "code",
   "execution_count": 7,
   "id": "47112fe5",
   "metadata": {},
   "outputs": [],
   "source": [
    "n_gp_operators = len(gpdata)\n",
    "gp_plans = np.empty(n_gp_operators, dtype=OperatorPlan)"
   ]
  },
  {
   "cell_type": "code",
   "execution_count": 8,
   "id": "bc72ba22",
   "metadata": {
    "scrolled": true
   },
   "outputs": [],
   "source": [
    "for i, op in enumerate(gpdata):\n",
    "    try:\n",
    "        ## gamepress id doesnt match in-game id data\n",
    "        name = char_names_rev[op[\"operator\"]]\n",
    "    except:\n",
    "        name = op[\"operator\"]\n",
    "    #print(name)\n",
    "    gp_plans[i] = OperatorPlan(\n",
    "            name = name,\n",
    "            elite_range = (op[\"start_promotion\"], op[\"end_promotion\"]),\n",
    "            skill_range = (op[\"start_skill\"], op[\"end_skill\"]),\n",
    "            mastery_range = np.transpose((op[\"start_specs\"], op[\"end_specs\"]))\n",
    "        )"
   ]
  },
  {
   "cell_type": "markdown",
   "id": "12214e16",
   "metadata": {},
   "source": [
    "# Test - Serialising OperatorPlan objects"
   ]
  },
  {
   "cell_type": "code",
   "execution_count": 9,
   "id": "a48da700",
   "metadata": {},
   "outputs": [
    {
     "name": "stdout",
     "output_type": "stream",
     "text": [
      "<operator_plan.OperatorPlan object at 0x7fea6644a2c0>\n"
     ]
    }
   ],
   "source": [
    "obj_str = plan_nearl.to_json()\n",
    "\n",
    "new_dict = json.loads(obj_str)\n",
    "new_plan = OperatorPlan(**new_dict)\n",
    "\n",
    "print(new_plan)"
   ]
  },
  {
   "cell_type": "markdown",
   "id": "854a5d05",
   "metadata": {},
   "source": [
    "# Test - User interface"
   ]
  },
  {
   "cell_type": "code",
   "execution_count": 10,
   "id": "3159f9f1",
   "metadata": {},
   "outputs": [],
   "source": [
    "preset_e1 = OperatorPlan(elite_range=(0,1))\n",
    "preset_e1_SL7 = OperatorPlan(elite_range=(0,1), skill_range=(1,7))\n",
    "preset_e1_L60_SL7 = OperatorPlan(level_range=(1,60), elite_range=(0,1), skill_range=(1,7))\n",
    "preset_e1_L70_SL7 = OperatorPlan(level_range=(1,70), elite_range=(0,1), skill_range=(1,7))\n",
    "preset_e2 = OperatorPlan(elite_range=(0,2))\n",
    "preset_e2_L20_SL7 = OperatorPlan(level_range=(1,20), elite_range=(0,2), skill_range=(1,7))\n",
    "preset_e2_L50_SL7 = OperatorPlan(level_range=(1,50), elite_range=(0,2), skill_range=(1,7))\n",
    "preset_e2_SL7 = OperatorPlan(elite_range=(0,2), skill_range=(1,7))\n",
    "preset_e2_S1M3 = OperatorPlan(elite_range=(0,2), skill_range=(1,7), mastery_range=[(0,3),(0,0),(0,0)])\n",
    "preset_e2_S2M3 = OperatorPlan(elite_range=(0,2), skill_range=(1,7), mastery_range=[(0,0),(0,3),(0,0)])\n",
    "preset_e2_S3M3 = OperatorPlan(elite_range=(0,2), skill_range=(1,7), mastery_range=[(0,0),(0,0),(0,3)])\n",
    "preset_S1M3 = OperatorPlan(mastery_range=[(0,3),(0,0),(0,0)])\n",
    "preset_S2M3 = OperatorPlan(mastery_range=[(0,0),(0,3),(0,0)])\n",
    "preset_S3M3 = OperatorPlan(mastery_range=[(0,0),(0,0),(0,3)])\n",
    "preset_S2M3_S3M3 = OperatorPlan(mastery_range=[(0,0),(0,3),(0,3)])\n",
    "preset_M6 = OperatorPlan(mastery_range=[(0,3),(0,3),(0,0)])\n",
    "preset_M9 = OperatorPlan(mastery_range=[(0,3),(0,3),(0,3)])\n",
    "preset_M1L1 = OperatorPlan(module_range=[(0,1)])\n",
    "preset_M1L3 = OperatorPlan(module_range=[(0,3)])"
   ]
  },
  {
   "cell_type": "code",
   "execution_count": 11,
   "id": "f8b0e9d0",
   "metadata": {},
   "outputs": [
    {
     "name": "stdout",
     "output_type": "stream",
     "text": [
      "Suzuran:\n",
      "\tE0 -> E2\n",
      "Cost:\n",
      "\tPolyester: 8\n",
      "\tOriron: 4\n",
      "\tGrindstone Pentahydrate: 8\n",
      "\tD32 Steel: 4\n",
      "\tSupporter Chip: 5\n",
      "\tSupporter Dualchip: 4\n",
      "\tLMD: 589841\n",
      "\tEXP: 361400\n"
     ]
    }
   ],
   "source": [
    "suzuran = preset_e2.as_operator(\"Suzuran\")\n",
    "suzuran_total = suzuran.get_cost(char_names_rev, packet_all)\n",
    "suzuran.pretty_print(item_names, suzuran_total)"
   ]
  },
  {
   "cell_type": "code",
   "execution_count": 12,
   "id": "e1a4dffe",
   "metadata": {},
   "outputs": [],
   "source": [
    "def sum_operator_cost(operators: npt.NDArray, char_names_rev: dict,\n",
    "                      packet_all: CostPacket) -> npt.NDArray:\n",
    "    costs = []\n",
    "    for op in operators:\n",
    "        op_cost = op.get_cost(char_names_rev, packet_all)\n",
    "        costs.append(op_cost)\n",
    "    \n",
    "    costs = np.concatenate(costs)\n",
    "    total_cost = ak.collapse_item_list(costs)\n",
    "    return total_cost\n",
    "\n",
    "def materials_to_csv(file: str, array: npt.NDArray, item_names: dict) -> None:\n",
    "    with open(file, \"w\") as f:\n",
    "        for item_id, count in array:\n",
    "            f.write(\"{},{},{}\\n\".format(item_id, item_names[item_id], count))\n",
    "        "
   ]
  },
  {
   "cell_type": "code",
   "execution_count": 13,
   "id": "d00021ea",
   "metadata": {
    "scrolled": true
   },
   "outputs": [
    {
     "name": "stdout",
     "output_type": "stream",
     "text": [
      "Suzuran:\n",
      "\tE0 -> E2\n",
      "Cost:\n",
      "\tOrirock: 36\n",
      "\tOrirock Cube: 70\n",
      "\tOrirock Cluster: 85\n",
      "\tOrirock Concentration: 100\n",
      "\tSugar Substitute: 20\n",
      "\tSugar: 60\n",
      "\tSugar Lump: 4\n",
      "\tEster: 10\n",
      "\tPolyester: 66\n",
      "\tPolyester Pack: 21\n",
      "\tPolyester Lump: 12\n",
      "\tOriron Shard: 24\n",
      "\tOriron: 49\n",
      "\tOriron Cluster: 29\n",
      "\tOriron Block: 63\n",
      "\tDiketon: 21\n",
      "\tPolyketon: 51\n",
      "\tAketon: 96\n",
      "\tKeton Colloid: 92\n",
      "\tDamaged Device: 22\n",
      "\tDevice: 44\n",
      "\tIntegrated Device: 26\n",
      "\tOptimized Device: 40\n",
      "\tLoxic Kohl: 45\n",
      "\tWhite Horse Kohl: 84\n",
      "\tManganese Ore: 33\n",
      "\tManganese Trihydrate: 72\n",
      "\tGrindstone: 29\n",
      "\tGrindstone Pentahydrate: 84\n",
      "\tRMA70-12: 21\n",
      "\tRMA70-24: 79\n",
      "\tPolymerization Preparation: 80\n",
      "\tBipolar Nanoflake: 86\n",
      "\tD32 Steel: 58\n",
      "\tCrystalline Electronic Unit: 43\n",
      "\tCoagulating Gel: 40\n",
      "\tPolymerized Gel: 96\n",
      "\tIncandescent Alloy: 33\n",
      "\tIncandescent Alloy Block: 86\n",
      "\tCrystalline Component: 4\n",
      "\tCrystalline Circuit: 22\n",
      "\tSemi-Synthetic Solvent: 23\n",
      "\tRefined Solvent: 4\n",
      "\tCompound Cutting Fluid: 21\n",
      "\tCutting Fluid Solution: 8\n",
      "\tVanguard Chip: 4\n",
      "\tVanguard Dualchip: 7\n",
      "\tGuard Chip: 10\n",
      "\tGuard Chip Pack: 5\n",
      "\tGuard Dualchip: 8\n",
      "\tDefender Chip: 5\n",
      "\tDefender Dualchip: 10\n",
      "\tSniper Chip: 13\n",
      "\tSniper Dualchip: 7\n",
      "\tCaster Chip: 9\n",
      "\tCaster Dualchip: 11\n",
      "\tMedic Chip: 9\n",
      "\tMedic Dualchip: 4\n",
      "\tSupporter Chip: 8\n",
      "\tSupporter Dualchip: 7\n",
      "\tSpecialist Chip: 19\n",
      "\tSpecialist Dualchip: 18\n",
      "\tSkill Summary - 1: 152\n",
      "\tSkill Summary - 2: 357\n",
      "\tSkill Summary - 3: 1278\n",
      "\tLMD: 9248738\n",
      "\tEXP: 5707151\n"
     ]
    }
   ],
   "source": [
    "ops = [\n",
    "    OperatorPlan(\"Mostima\", level_range=(80, 20), elite_range=(1,2)),\n",
    "    preset_e2_L50_SL7.as_operator(\"Thorns\"),\n",
    "    preset_S3M3.as_operator(\"Thorns\"),\n",
    "    preset_S2M3_S3M3.as_operator(\"Bagpipe\"),\n",
    "    OperatorPlan(\"Liskarm\", level_range=(70, 20), elite_range=(1,2)),\n",
    "    OperatorPlan(\"April\", level_range=(70, 20), elite_range=(1,2)),\n",
    "    OperatorPlan(\"Utage\", level_range=(60, 20), elite_range=(1,2)),\n",
    "    OperatorPlan(\"FEater\", level_range=(70, 20), elite_range=(1,2)),\n",
    "    preset_S2M3.as_operator(\"FEater\"),\n",
    "    OperatorPlan(\"Shamare\", level_range=(70, 20), elite_range=(1,2)),\n",
    "    OperatorPlan(\"Elysium\", level_range=(70, 20), elite_range=(1,2)),\n",
    "    preset_M6.as_operator(\"Elysium\"),\n",
    "    OperatorPlan(\"Nearl the Radiant Knight\", mastery_range=[(0,0),(0,0),(2,3)]),\n",
    "    OperatorPlan(\"Flametail\", level_range=(80, 20), elite_range=(1,2)),\n",
    "    preset_e1_L70_SL7.as_operator(\"Honeyberry\"),\n",
    "    preset_e1_L60_SL7.as_operator(\"Roberta\"),\n",
    "    OperatorPlan(\"Aurora\", level_range=(70, 20), elite_range=(1,2)),\n",
    "    OperatorPlan(\"Archetto\", mastery_range=[(2,3),(1,3),(0,3)]),\n",
    "    OperatorPlan(\"Mudrock\", mastery_range=[(0,0),(1,3),(0,3)]),\n",
    "    preset_S1M3.as_operator(\"Saga\"),\n",
    "    preset_S3M3.as_operator(\"Skadi the Corrupting Heart\"),\n",
    "    preset_S2M3.as_operator(\"Exusiai\"),\n",
    "    OperatorPlan(\"Eunectes\", mastery_range=[(0,0),(0,0),(2,3)]),\n",
    "    preset_S2M3.as_operator(\"Kal'tsit\"),\n",
    "    OperatorPlan(\"Saria\", mastery_range=[(0,0),(1,3),(0,3)]),\n",
    "    preset_S2M3.as_operator(\"Skadi\"),\n",
    "    preset_S3M3.as_operator(\"W\"),\n",
    "    preset_S2M3.as_operator(\"Ifrit\"),\n",
    "    preset_S2M3.as_operator(\"Mountain\"),\n",
    "    preset_e2_L50_SL7.as_operator(\"Ling\"),\n",
    "    preset_S2M3_S3M3.as_operator(\"Ling\"),\n",
    "    preset_e1_L70_SL7.as_operator(\"Blacknight\"),\n",
    "    preset_e2_L20_SL7.as_operator(\"Goldenglow\"),\n",
    "    preset_S2M3_S3M3.as_operator(\"Goldenglow\"),\n",
    "    OperatorPlan(\"Dusk\", mastery_range=[(1,3),(0,3),(0,3)]),\n",
    "    OperatorPlan(\"Eyjafjalla\", mastery_range=[(0,0),(1,3),(0,0)]),\n",
    "    preset_S3M3.as_operator(\"Aak\"),\n",
    "    OperatorPlan(\"Weedy\", mastery_range=[(1,3)]),\n",
    "    preset_S2M3.as_operator(\"Specter\"),\n",
    "    OperatorPlan(\"Lava the Purgatory\", level_range=(70, 20), elite_range=(1,2)),\n",
    "    preset_e2_L20_SL7.as_operator(\"Fiammetta\"),\n",
    "    preset_S2M3_S3M3.as_operator(\"Fiammetta\"),\n",
    "    preset_S3M3.as_operator(\"Suzuran\"),\n",
    "    preset_e2_L20_SL7.as_operator(\"Horn\"),\n",
    "    preset_e2_L20_SL7.as_operator(\"Irene\"),\n",
    "    preset_e2_L20_SL7.as_operator(\"Specter the Unchained\"),\n",
    "    preset_e2_L20_SL7.as_operator(\"Lumen\"),\n",
    "    preset_e2_L20_SL7.as_operator(\"Phantom\"),\n",
    "    preset_S2M3.as_operator(\"Phantom\"),\n",
    "    preset_e1_L70_SL7.as_operator(\"Erato\"),\n",
    "    preset_e1_L70_SL7.as_operator(\"Kroos the Keen Glint\"),\n",
    "    preset_e1_L70_SL7.as_operator(\"Rockrock\"),\n",
    "    preset_e2_L20_SL7.as_operator(\"Kazemaru\"),\n",
    "    preset_e2_L20_SL7.as_operator(\"Dorothy\"),\n",
    "]\n",
    "total_cost = sum_operator_cost(ops, char_names_rev, packet_all)\n",
    "suzuran.pretty_print(item_names, total_cost)"
   ]
  },
  {
   "cell_type": "code",
   "execution_count": 14,
   "id": "d7d06c8a",
   "metadata": {},
   "outputs": [],
   "source": [
    "materials_to_csv(\"test.csv\", total_cost, item_names)"
   ]
  },
  {
   "cell_type": "code",
   "execution_count": 15,
   "id": "4842a1ea",
   "metadata": {},
   "outputs": [],
   "source": [
    "craft_dict = ak.get_craft_dict()\n",
    "material_ids = ak.get_material_ids(item_names_rev, ak.MATERIAL_NAMES)\n",
    "n_mats = len(material_ids)\n",
    "craft_matrix, subprod_matrix = ak.get_craft_matrix(craft_dict, material_ids)"
   ]
  },
  {
   "cell_type": "code",
   "execution_count": 16,
   "id": "bdbdd5ad",
   "metadata": {
    "scrolled": false
   },
   "outputs": [
    {
     "name": "stdout",
     "output_type": "stream",
     "text": [
      "[['4001' '3003' '2001' '2002' '2003' '2004' '3301' '3302' '3303' '30011'\n",
      "  '30012' '30013' '30014' '30061' '30062' '30063' '30064' '30031' '30032'\n",
      "  '30033' '30034' '30021' '30022' '30023' '30024' '30041' '30042' '30043'\n",
      "  '30044' '30051' '30052' '30053' '30054' '30073' '30074' '30083' '30084'\n",
      "  '30093' '30094' '30103' '30104' '30115' '30125' '30135' '31013' '31014'\n",
      "  '31023' '31024' '31033' '31034' '30145' '31043' '31044' '31053' '31054']\n",
      " ['446000.0' '0.0' '0.0' '0.0' '0.0' '0.0' '1071.0' '3834.0' '0.0'\n",
      "  '210.0' '425.0' '638.0' '80.0' '132.0' '104.0' '273.0' '86.0' '198.0'\n",
      "  '84.0' '159.0' '0.0' '180.0' '0.0' '184.0' '0.0' '147.0' '116.0'\n",
      "  '310.0' '80.0' '153.0' '384.0' '275.0' '80.0' '168.0' '172.0' '240.0'\n",
      "  '58.0' '210.0' '58.0' '171.0' '58.0' '0.0' '0.0' '0.0' '122.0' '86.0'\n",
      "  '204.0' '43.0' '52.0' '43.0' '0.0' '4.0' '0.0' '12.0' '0.0']]\n"
     ]
    }
   ],
   "source": [
    "mats_required = np.zeros(n_mats, dtype=\"int32\")\n",
    "for item_id, count in total_cost:\n",
    "    try:\n",
    "        idx = np.where(material_ids == item_id)[0][0]\n",
    "        mats_required[idx] = count\n",
    "        #print(item_id)\n",
    "    except:\n",
    "        pass\n",
    "    \n",
    "#with np.printoptions(threshold=np.inf):\n",
    "#    print(craft_matrix)\n",
    "#print(total_cost)\n",
    "breakdown = np.matmul(craft_matrix.T, mats_required)\n",
    "print(np.stack([material_ids, breakdown]))"
   ]
  },
  {
   "cell_type": "code",
   "execution_count": 17,
   "id": "b074e2a9",
   "metadata": {},
   "outputs": [],
   "source": [
    "breakdown_matrix = np.matrix.copy(craft_matrix.T)\n",
    "tier_1_names = [\n",
    "    \"Damaged Device\",\n",
    "    \"Diketon\",\n",
    "    \"Oriron Shard\",\n",
    "    \"Ester\",\n",
    "    \"Sugar Substitute\",\n",
    "    \"Orirock\",\n",
    "]\n",
    "tier_2_names = [\n",
    "    \"Orirock Cube\",\n",
    "    \"Device\",\n",
    "    \"Polyketon\",\n",
    "    \"Oriron\",\n",
    "    \"Polyester\",\n",
    "    \"Sugar\",\n",
    "]\n",
    "tier_3_names = [\n",
    "    \"RMA70-12\",\n",
    "    \"Manganese Ore\",\n",
    "    \"Grindstone\",\n",
    "    \"Loxic Kohl\",\n",
    "    \"Integrated Device\",\n",
    "    \"Aketon\",\n",
    "    \"Oriron Cluster\",\n",
    "    \"Polyester Pack\",\n",
    "    \"Sugar Pack\",\n",
    "    \"Orirock Cluster\",\n",
    "    \"Coagulating Gel\",\n",
    "    \"Incandescent Alloy\",\n",
    "    \"Crystalline Component\",\n",
    "    \"Semi-Synthetic Solvent\",\n",
    "    \"Compound Cutting Fluid\",\n",
    "]\n",
    "tier_1_ids = ak.get_material_ids(item_names_rev, tier_1_names)\n",
    "tier_2_ids = ak.get_material_ids(item_names_rev, tier_2_names)\n",
    "tier_3_ids = ak.get_material_ids(item_names_rev, tier_3_names)\n",
    "ids_combined = np.concatenate((tier_1_ids, tier_2_ids))\n",
    "ids_combined, ids_indices, _ = np.intersect1d(material_ids, ids_combined, return_indices=True)\n",
    "_, tier_3_indices, _ = np.intersect1d(material_ids, tier_3_ids, return_indices=True)\n",
    "\n",
    "\n",
    "rocc2_idx = np.where(material_ids == item_names_rev[\"Orirock Cube\"])[0][0]\n",
    "rocc3_idx = np.where(material_ids == item_names_rev[\"Orirock Cluster\"])[0][0]\n",
    "lmd_idx = np.where(material_ids == ak.LMD_ID)[0][0]\n",
    "\n",
    "## remove deconstructing T3->T2 and T2->T1\n",
    "rocc_before = breakdown_matrix[rocc2_idx][rocc3_idx]\n",
    "for i in ids_indices:\n",
    "    for j in range(n_mats):\n",
    "        breakdown_matrix[i][j] = 0\n",
    "        #breakdown_matrix[j][i] = 0\n",
    "    breakdown_matrix[i][i] = 1\n",
    "#for j in range(n_mats):\n",
    "#    breakdown_matrix[lmd_idx][j] = 0\n",
    "breakdown_matrix[lmd_idx][lmd_idx] = 1\n",
    "for i in tier_3_indices:\n",
    "    if i == rocc3_idx:\n",
    "        breakdown_matrix[rocc2_idx][rocc3_idx] = rocc_before\n",
    "        continue\n",
    "    breakdown_matrix[i][i] = 1"
   ]
  },
  {
   "cell_type": "code",
   "execution_count": 18,
   "id": "d6e37179",
   "metadata": {
    "scrolled": true
   },
   "outputs": [
    {
     "name": "stdout",
     "output_type": "stream",
     "text": [
      "LMD: 11454138.0\n",
      "Pure Gold: 0.0\n",
      "Drill Battle Record: 0.0\n",
      "Frontline Battle Record: 0.0\n",
      "Tactical Battle Record: 0.0\n",
      "Strategic Battle Record: 0.0\n",
      "Skill Summary - 1: 0.0\n",
      "Skill Summary - 2: 0.0\n",
      "Skill Summary - 3: 0.0\n",
      "Orirock: 36.0\n",
      "Orirock Cube: 6725.0\n",
      "Orirock Cluster: 0.0\n",
      "Orirock Concentration: 0.0\n",
      "Damaged Device: 22.0\n",
      "Device: 44.0\n",
      "Integrated Device: 566.0\n",
      "Optimized Device: 0.0\n",
      "Ester: 10.0\n",
      "Polyester: 66.0\n",
      "Polyester Pack: 318.0\n",
      "Polyester Lump: 0.0\n",
      "Sugar Substitute: 20.0\n",
      "Sugar: 60.0\n",
      "Sugar Pack: 436.0\n",
      "Sugar Lump: 0.0\n",
      "Oriron Shard: 24.0\n",
      "Oriron: 49.0\n",
      "Oriron Cluster: 643.0\n",
      "Oriron Block: 0.0\n",
      "Diketon: 21.0\n",
      "Polyketon: 51.0\n",
      "Aketon: 589.0\n",
      "Keton Colloid: 0.0\n",
      "Loxic Kohl: 443.0\n",
      "White Horse Kohl: 0.0\n",
      "Manganese Ore: 469.0\n",
      "Manganese Trihydrate: 0.0\n",
      "Grindstone: 426.0\n",
      "Grindstone Pentahydrate: 0.0\n",
      "RMA70-12: 422.0\n",
      "RMA70-24: 0.0\n",
      "Polymerization Preparation: 0.0\n",
      "Bipolar Nanoflake: 0.0\n",
      "D32 Steel: 0.0\n",
      "Coagulating Gel: 291.0\n",
      "Polymerized Gel: 0.0\n",
      "Incandescent Alloy: 409.0\n",
      "Incandescent Alloy Block: 0.0\n",
      "Crystalline Component: 142.0\n",
      "Crystalline Circuit: 0.0\n",
      "Crystalline Electronic Unit: 0.0\n",
      "Semi-Synthetic Solvent: 27.0\n",
      "Refined Solvent: 0.0\n",
      "Compound Cutting Fluid: 33.0\n",
      "Cutting Fluid Solution: 0.0\n"
     ]
    }
   ],
   "source": [
    "#breakdown = mats_required\n",
    "breakdown = np.matmul(breakdown_matrix, np.matmul(breakdown_matrix, mats_required))\n",
    "breakdown = np.matmul(breakdown_matrix, breakdown)\n",
    "for k, v in np.stack([material_ids, breakdown]).T:\n",
    "    print(\"{}: {}\".format(item_names[k], v))\n",
    "#print(np.stack([material_ids, breakdown]))\n",
    "\n",
    "#print(breakdown[rocc_idx])"
   ]
  },
  {
   "cell_type": "code",
   "execution_count": 19,
   "id": "5aef5f42",
   "metadata": {},
   "outputs": [
    {
     "name": "stdout",
     "output_type": "stream",
     "text": [
      "[  1.   0.   0.   0.   0.   0.   0.   0.   0.   0. 100. 200. 300.   0.\n",
      " 100. 200. 300.   0. 100. 200. 300.   0. 100. 200. 300.   0. 100. 200.\n",
      " 300.   0. 100. 200. 300.   0. 300.   0. 300.   0. 300.   0. 300. 400.\n",
      " 400. 400.   0. 300.   0. 300.   0. 300. 400.   0. 300.   0. 300.]\n"
     ]
    }
   ],
   "source": [
    "with np.printoptions(threshold=np.inf):\n",
    "    print(breakdown_matrix[:][lmd_idx])\n",
    "    #print(craft_matrix[lmd_idx][:])"
   ]
  },
  {
   "cell_type": "code",
   "execution_count": null,
   "id": "f94a597b",
   "metadata": {},
   "outputs": [],
   "source": []
  }
 ],
 "metadata": {
  "kernelspec": {
   "display_name": "Python 3 (ipykernel)",
   "language": "python",
   "name": "python3"
  },
  "language_info": {
   "codemirror_mode": {
    "name": "ipython",
    "version": 3
   },
   "file_extension": ".py",
   "mimetype": "text/x-python",
   "name": "python",
   "nbconvert_exporter": "python",
   "pygments_lexer": "ipython3",
   "version": "3.10.5"
  }
 },
 "nbformat": 4,
 "nbformat_minor": 5
}
