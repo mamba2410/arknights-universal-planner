{
 "cells": [
  {
   "cell_type": "code",
   "execution_count": 1,
   "id": "e31f7cab",
   "metadata": {},
   "outputs": [],
   "source": [
    "import common as ak\n",
    "from operator_plan import OperatorPlan\n",
    "from cost_packet import CostPacket\n",
    "import numpy as np\n",
    "import numpy.typing as npt\n",
    "\n",
    "%load_ext autoreload\n",
    "%autoreload 2"
   ]
  },
  {
   "cell_type": "code",
   "execution_count": 2,
   "id": "18e9e034",
   "metadata": {},
   "outputs": [],
   "source": [
    "item_dict = ak.get_item_dict(lang=\"en_US\")\n",
    "#char_dict = ak.get_char_dict(lang=\"en_US\")\n",
    "char_dict = ak.get_char_dict(lang=\"zh_CN\")\n",
    "module_dict = ak.get_module_dict(lang=\"zh_CN\")\n",
    "level_dict = ak.get_level_dict(lang=\"zh_CN\")"
   ]
  },
  {
   "cell_type": "code",
   "execution_count": 3,
   "id": "4a7e584c",
   "metadata": {},
   "outputs": [],
   "source": [
    "n_items = len(item_dict.keys())\n",
    "n_chars = len(char_dict.keys())\n",
    "item_names, item_names_rev = ak.get_item_info(item_dict)\n",
    "#char_names, char_names_rev = ak.get_char_info(char_dict)\n",
    "char_names, char_names_rev = ak.get_char_translations(char_dict)"
   ]
  },
  {
   "cell_type": "code",
   "execution_count": 4,
   "id": "48a2c900",
   "metadata": {
    "scrolled": true
   },
   "outputs": [],
   "source": [
    "packet_all, _ = ak.get_all_char_all_costs(char_dict, module_dict, level_dict, n_chars)"
   ]
  },
  {
   "cell_type": "code",
   "execution_count": 20,
   "id": "82f7d289",
   "metadata": {},
   "outputs": [
    {
     "name": "stdout",
     "output_type": "stream",
     "text": [
      "Passenger:\n",
      "\tE0 -> E2\n",
      "Cost:\n",
      "\tOrirock Cube: 5\n",
      "\tOriron: 8\n",
      "\tOriron Block: 5\n",
      "\tBipolar Nanoflake: 4\n",
      "\tCaster Chip: 5\n",
      "\tCaster Dualchip: 4\n",
      "\tLMD: 694154\n",
      "\tEXP: 512161\n"
     ]
    }
   ],
   "source": [
    "plan_nearl = OperatorPlan(\n",
    "    name = \"Passenger\",\n",
    "    level_range = (1, 50),\n",
    "    elite_range = (0, 2),\n",
    "    skill_range = (1, 1),\n",
    "    mastery_range = [\n",
    "        (0, 0),\n",
    "        (0, 0),\n",
    "        (0, 0)\n",
    "    ],\n",
    "    module_range = [\n",
    "        (0, 0),\n",
    "        (0, 0)\n",
    "    ]\n",
    ")\n",
    "\n",
    "mats_combined = plan_nearl.get_cost(char_names_rev, packet_all)\n",
    "plan_nearl.pretty_print(item_names, mats_combined)"
   ]
  },
  {
   "cell_type": "markdown",
   "id": "8c2b7fba",
   "metadata": {},
   "source": [
    "# Testing - Loading Gamepress from JSON"
   ]
  },
  {
   "cell_type": "code",
   "execution_count": 6,
   "id": "b7fffaf6",
   "metadata": {},
   "outputs": [],
   "source": [
    "import json\n",
    "with open(\"gamepress.json\") as f:\n",
    "    gpdata = json.load(f)[\"operators\"]"
   ]
  },
  {
   "cell_type": "code",
   "execution_count": 7,
   "id": "47112fe5",
   "metadata": {},
   "outputs": [],
   "source": [
    "n_gp_operators = len(gpdata)\n",
    "gp_plans = np.empty(n_gp_operators, dtype=OperatorPlan)"
   ]
  },
  {
   "cell_type": "code",
   "execution_count": 8,
   "id": "bc72ba22",
   "metadata": {
    "scrolled": true
   },
   "outputs": [],
   "source": [
    "for i, op in enumerate(gpdata):\n",
    "    try:\n",
    "        ## gamepress id doesnt match in-game id data\n",
    "        name = char_names_rev[op[\"operator\"]]\n",
    "    except:\n",
    "        name = op[\"operator\"]\n",
    "    #print(name)\n",
    "    gp_plans[i] = OperatorPlan(\n",
    "            name = name,\n",
    "            elite_range = (op[\"start_promotion\"], op[\"end_promotion\"]),\n",
    "            skill_range = (op[\"start_skill\"], op[\"end_skill\"]),\n",
    "            mastery_range = np.transpose((op[\"start_specs\"], op[\"end_specs\"]))\n",
    "        )"
   ]
  },
  {
   "cell_type": "markdown",
   "id": "6ad230cc",
   "metadata": {},
   "source": [
    "# Test - Serialising OperatorPlan objects"
   ]
  },
  {
   "cell_type": "code",
   "execution_count": 9,
   "id": "6d54c329",
   "metadata": {},
   "outputs": [
    {
     "name": "stdout",
     "output_type": "stream",
     "text": [
      "<operator_plan.OperatorPlan object at 0x7f0097405ff0>\n"
     ]
    }
   ],
   "source": [
    "obj_str = plan_nearl.to_json()\n",
    "\n",
    "new_dict = json.loads(obj_str)\n",
    "new_plan = OperatorPlan(**new_dict)\n",
    "\n",
    "print(new_plan)"
   ]
  },
  {
   "cell_type": "markdown",
   "id": "84ff5af7",
   "metadata": {},
   "source": [
    "# Test - User interface"
   ]
  },
  {
   "cell_type": "code",
   "execution_count": 10,
   "id": "66762059",
   "metadata": {},
   "outputs": [],
   "source": [
    "preset_e1 = OperatorPlan(elite_range=(0,1))\n",
    "preset_e1_SL7 = OperatorPlan(elite_range=(0,1), skill_range=(1,7))\n",
    "preset_e2 = OperatorPlan(elite_range=(0,2))\n",
    "preset_e2_SL7 = OperatorPlan(elite_range=(0,2), skill_range=(1,7))\n",
    "preset_e2_S1M3 = OperatorPlan(elite_range=(0,2), skill_range=(1,7), mastery_range=[(0,3),(0,0),(0,0)])\n",
    "preset_e2_S2M3 = OperatorPlan(elite_range=(0,2), skill_range=(1,7), mastery_range=[(0,0),(0,3),(0,0)])\n",
    "preset_e2_S3M3 = OperatorPlan(elite_range=(0,2), skill_range=(1,7), mastery_range=[(0,0),(0,0),(0,3)])\n",
    "preset_S1M3 = OperatorPlan(mastery_range=[(0,3),(0,0),(0,0)])\n",
    "preset_S2M3 = OperatorPlan(mastery_range=[(0,0),(0,3),(0,0)])\n",
    "preset_S3M3 = OperatorPlan(mastery_range=[(0,0),(0,0),(0,3)])\n",
    "preset_S2M3_S3M3 = OperatorPlan(mastery_range=[(0,0),(0,3),(0,3)])\n",
    "preset_M9 = OperatorPlan(mastery_range=[(0,3),(0,3),(0,3)])\n",
    "preset_M1L1 = OperatorPlan(module_range=[(0,1)])\n",
    "preset_M1L3 = OperatorPlan(module_range=[(0,3)])"
   ]
  },
  {
   "cell_type": "code",
   "execution_count": 11,
   "id": "ce64b4b5",
   "metadata": {},
   "outputs": [
    {
     "name": "stdout",
     "output_type": "stream",
     "text": [
      "SilverAsh:\n",
      "\tE0 -> E1\n",
      "Cost:\n",
      "\tPolyester: 8\n",
      "\tDevice: 3\n",
      "\tGuard Chip: 5\n",
      "\tLMD: 30000\n",
      "\tEXP: 24400\n"
     ]
    }
   ],
   "source": [
    "suzuran = preset_e1.as_operator(\"SilverAsh\")\n",
    "suzuran_total = suzuran.get_cost(char_names_rev, packet_all)\n",
    "suzuran.pretty_print(item_names, suzuran_total)"
   ]
  },
  {
   "cell_type": "code",
   "execution_count": 12,
   "id": "26a12d7b",
   "metadata": {},
   "outputs": [],
   "source": [
    "preset_bad = OperatorPlan(module_range=[(1, 1)])"
   ]
  },
  {
   "cell_type": "code",
   "execution_count": 13,
   "id": "d1457763",
   "metadata": {},
   "outputs": [
    {
     "name": "stdout",
     "output_type": "stream",
     "text": [
      "5001\n"
     ]
    }
   ],
   "source": [
    "print(item_names_rev[\"EXP\"])"
   ]
  },
  {
   "cell_type": "code",
   "execution_count": null,
   "id": "c34b66ce",
   "metadata": {},
   "outputs": [],
   "source": []
  }
 ],
 "metadata": {
  "kernelspec": {
   "display_name": "Python 3 (ipykernel)",
   "language": "python",
   "name": "python3"
  },
  "language_info": {
   "codemirror_mode": {
    "name": "ipython",
    "version": 3
   },
   "file_extension": ".py",
   "mimetype": "text/x-python",
   "name": "python",
   "nbconvert_exporter": "python",
   "pygments_lexer": "ipython3",
   "version": "3.10.5"
  }
 },
 "nbformat": 4,
 "nbformat_minor": 5
}
